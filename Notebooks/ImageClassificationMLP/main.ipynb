{
 "cells": [
  {
   "cell_type": "markdown",
   "metadata": {},
   "source": [
    "# --> Importations"
   ]
  },
  {
   "cell_type": "code",
   "execution_count": 5,
   "metadata": {},
   "outputs": [],
   "source": [
    "import tensorflow as tf\n",
    "import numpy as np\n",
    "import pandas as pd\n",
    "import matplotlib.pyplot as plt"
   ]
  },
  {
   "cell_type": "markdown",
   "metadata": {},
   "source": [
    "# --> Importation et normalisation des données en entrée"
   ]
  },
  {
   "cell_type": "code",
   "execution_count": 6,
   "metadata": {},
   "outputs": [
    {
     "name": "stdout",
     "output_type": "stream",
     "text": [
      "Avant normalisation\n",
      "Moyenne valeur pixel:  73.00877385204082\n",
      "Ecart type valeur pixel:  90.2745808471392\n",
      "Apres normalisation\n",
      "Moyenne valeur pixel:  -1.0476880134421886e-18\n",
      "Ecart type valeur pixel:  1.0000000000000007\n",
      "\n",
      "Shape des images :  (10000, 784)\n",
      "Shape de notre liste de classification :  (10000,)\n"
     ]
    }
   ],
   "source": [
    "#Fashion MNIST\n",
    "fashion_mnist = tf.keras.datasets.fashion_mnist                            #Librairie dataset\n",
    "(images, targets), (images_test, targets_test) = fashion_mnist.load_data() #On ignore les informations avec _\n",
    "images = images[:10000]                                                    #On ne prend pas tout le dataset pour aller plus vite\n",
    "targets = targets[:10000]\n",
    "\n",
    "#Normalisation des valeurs de 0 a 255 => 0 a 1\n",
    "from sklearn.preprocessing import StandardScaler\n",
    "print(\"Avant normalisation\")\n",
    "print(\"Moyenne valeur pixel: \", images.mean())   #On voit que ces deux valeurs sont beaucoup\n",
    "print(\"Ecart type valeur pixel: \", images.std()) #trop eleves, il faut donc normaliser\n",
    "images = images.reshape(-1, 784)                 #On flatten les images en entree 2D => 1D\n",
    "images = images.astype(float)                    #On definit les valeurs comme etant des float\n",
    "scaler = StandardScaler()                        #StandardScaler est une fonction de normalisation qui diminue l'ecart type des valeurs\n",
    "images = scaler.fit_transform(images)\n",
    "print(\"Apres normalisation\")\n",
    "print(\"Moyenne valeur pixel: \", images.mean())   #On voit que ces deux valeurs ont bien\n",
    "print(\"Ecart type valeur pixel: \", images.std()) #change et que la normalisation a eu lieu\n",
    "\n",
    "#Normalisation des valeurs pour images_test\n",
    "images_test = images_test.reshape(-1, 784)\n",
    "images_test = images_test.astype(float)\n",
    "images_test = scaler.fit_transform(images)\n",
    "\n",
    "#Affichage de nos shape\n",
    "print(\"\\nShape des images : \", images.shape)\n",
    "print(\"Shape de notre liste de classification : \", targets.shape)\n",
    "#print(images[0]) #Tableau 2D de niveau de gris (0 a 255)\n",
    "#print(targets[0]) #Numero de la classe"
   ]
  },
  {
   "cell_type": "markdown",
   "metadata": {},
   "source": [
    "# --> Creation du validation set"
   ]
  },
  {
   "cell_type": "code",
   "execution_count": 7,
   "metadata": {},
   "outputs": [
    {
     "name": "stdout",
     "output_type": "stream",
     "text": [
      "Train set images shape :  (8000, 784) , Train set targets shape :  (8000,)\n",
      "Test set images shape :  (2000, 784) , Test set targets shape :  (2000,)\n"
     ]
    }
   ],
   "source": [
    "#Le validation set doit etre different du train set. Le but est de verifier la capacite d'extrapolation \n",
    "#pendant l'entrainement du reseau de neuronne. Le model sera jamais entraine sur ce validation set\n",
    "#Grace a cela, on s'assure que la generalisation fonctionne et que le reseau n'apprend pas par coeur le train set\n",
    "#Ce probleme est appelé l'overfitting. Pour reperer l'overfitting il faut afficher la courbe d'erreur du train set \n",
    "#avec la courbe d'erreur du validation set. Si la courbe du validation set est au dessus de la courbe du train set\n",
    "#alors nous avons un overfitting\n",
    "\n",
    "#Nous avons donc un train set, un validation set, et un test set. Ils sont tous les trois totalement differents.\n",
    "\n",
    "#Il ne faut agir sur les parametres du reseau que en fonction du train set et non du validation set / test set.\n",
    "#C'est pour cela que les donnees de tests ne sont pas donnees en competition kaggle avant d'avoir upload le model.\n",
    "#Il faut vraiment faire attention a ce que les donnees du train set soit assez eloignes des donnees du\n",
    "#validation test et du test set.\n",
    "\n",
    "from sklearn.model_selection import train_test_split\n",
    "images_train, images_test, targets_train, targets_test = train_test_split(images, targets, test_size=0.2, random_state=1) #0.2 signifie 20% pour le test set\n",
    "print(\"Train set images shape : \", images_train.shape, \", Train set targets shape : \", targets_train.shape)\n",
    "print(\"Test set images shape : \", images_test.shape, \", Test set targets shape : \", targets_test.shape)"
   ]
  },
  {
   "cell_type": "markdown",
   "metadata": {},
   "source": [
    "# --> Visualisation d'une des images du dataset"
   ]
  },
  {
   "cell_type": "code",
   "execution_count": 8,
   "metadata": {},
   "outputs": [
    {
     "data": {
      "image/png": "[encoded data removed]",
      "text/plain": [
       "<Figure size 432x288 with 1 Axes>"
      ]
     },
     "metadata": {
      "needs_background": "light"
     },
     "output_type": "display_data"
    }
   ],
   "source": [
    "targets_names = [\"T-shirt/top\", \"Trouser\", \"Pullover\", \"Dress\", \"Coat\", \"Sandal\", \"Shirt\", \"Sneaker\", \"Bad\", \"Ankle boot\"]\n",
    "plt.imshow(np.reshape(images[11], (28, 28)), cmap=\"binary\") #On precise avec \"binary\" que nous somme sur une image en noir et blanc\n",
    "plt.title(targets_names[targets[11]])\n",
    "plt.show()"
   ]
  },
  {
   "cell_type": "code",
   "execution_count": 9,
   "metadata": {},
   "outputs": [],
   "source": [
    "#print(images[10][0]) #Affiche première ligne de l'image 10\n",
    "#print(targets_names[targets[10]]) #Type de cette image"
   ]
  },
  {
   "cell_type": "code",
   "execution_count": 10,
   "metadata": {},
   "outputs": [
    {
     "name": "stdout",
     "output_type": "stream",
     "text": [
      "Taille pixel image :  784\n",
      "\n",
      "Nombre de classificiation :  10\n"
     ]
    }
   ],
   "source": [
    "#On veut creer un reseau de neurone avec 784 input\n",
    "print(\"Taille pixel image : \", images[0].size)\n",
    "#On veut 2 layers dont la premiere a 256 neurones et la deuxieme 128\n",
    "#Notre output layer aura 10 neurones car 10 types de classification\n",
    "print(\"\\nNombre de classificiation : \", len(targets_names))"
   ]
  },
  {
   "cell_type": "code",
   "execution_count": 11,
   "metadata": {},
   "outputs": [],
   "source": [
    "#Comment formater les données en input\n",
    "#model = tf.keras.models.Sequential() #On creer un model sequentiel\n",
    "#model.add(tf.keras.layers.Flatten(input_shape=[28, 28])) #On flatten notre image 28 par 28\n",
    "#print(\"Shape avant flatten : \", images[0:1].shape) #On voit ici qu'elle est en 2D\n",
    "#model_output = model.predict(images[0:1])\n",
    "#print(\"Shape après flatten : \", model_output.shape) #On voit ici qu'elle a bien été flatten"
   ]
  },
  {
   "cell_type": "markdown",
   "metadata": {},
   "source": [
    "# --> Les fonctions d'activation"
   ]
  },
  {
   "cell_type": "code",
   "execution_count": 12,
   "metadata": {},
   "outputs": [
    {
     "data": {
      "image/png": "[encoded data removed]",
      "text/plain": [
       "<Figure size 432x288 with 1 Axes>"
      ]
     },
     "metadata": {
      "needs_background": "light"
     },
     "output_type": "display_data"
    },
    {
     "data": {
      "image/png": "[encoded data removed]",
      "text/plain": [
       "<Figure size 432x288 with 1 Axes>"
      ]
     },
     "metadata": {
      "needs_background": "light"
     },
     "output_type": "display_data"
    },
    {
     "data": {
      "image/png": "[encoded data removed]",
      "text/plain": [
       "<Figure size 432x288 with 1 Axes>"
      ]
     },
     "metadata": {
      "needs_background": "light"
     },
     "output_type": "display_data"
    }
   ],
   "source": [
    "#La valeur de pre-activation (somme ponderee de la couche precedente) peut aller de -inf a +inf.\n",
    "#Il faut que l'on gere cette valeur, en utilisant une fonction d'activation.\n",
    "\n",
    "#Sigmoid\n",
    "#La sortie est plus cohérente car resultat entre 0 et 1.\n",
    "#Si on a plusieurs neurones sur la couche de sortie il ne faut pas\n",
    "#utiliser sigmoid car la distribution de probabilite ne serait\n",
    "#pas egale a 1, il faudrait donc utiliser une autre fonction\n",
    "#d'activation comme softmax. Un des problemes de cette fonction\n",
    "#d'activation est le fait que le gradient diminue trop rapidemment\n",
    "#ce qui fait qu'il disparait... Tanh permet d'aider sur ce point.\n",
    "x = np.linspace(-5, 5, 100)\n",
    "y = 1/(1 + np.exp(-x))\n",
    "plt.figure()\n",
    "plt.xlim(-5,5)\n",
    "plt.ylim(0, 1)\n",
    "plt.plot(x, y)\n",
    "plt.title(\"Sigmoid\")\n",
    "plt.show()\n",
    "\n",
    "#Softmax\n",
    "#Softmax prends pour son operation toutes les valeurs de pre activation\n",
    "#de la couche d'avant et fait en sorte que la somme des activations sur\n",
    "#la couche output soit egale a 1.\n",
    "\n",
    "#Tanh\n",
    "#Tanh permet de mettre une range sur les sorties, par exemple [0,360]\n",
    "#Cela peut etre tres pratique dans certain cas. L'avantage est surtout\n",
    "#present lors de la descente de gradient car on pourrait traduire la sortie\n",
    "#pour arriver dans une certaine range. Le gradient diminue bien plus\n",
    "#lentement que lors de l'utilisation de sigmoid.\n",
    "x = np.linspace(-5, 5, 100)\n",
    "y = (1 - np.exp(-2*x))/(1 + np.exp(-2*x)) #peut etre remplace par np.tanh()\n",
    "plt.figure()\n",
    "plt.xlim(-5,5)\n",
    "plt.ylim(-1, 1)\n",
    "plt.plot(x, y)\n",
    "plt.title(\"Tanh\")\n",
    "plt.show()\n",
    "\n",
    "#ReLU\n",
    "#ReLU mets a 0 les valeurs negatives et copie les valeurs positives\n",
    "#Lorsque les valeurs sont copie elles sont donc \"activees\" par la fonction.\n",
    "#ReLU est utilise sur les hidden layers. En effet, a moins que le probleme\n",
    "#soit lineaire, on utilise ReLU, sigmoid, tanh... \n",
    "x = np.linspace(-2, 2, 100)\n",
    "y = np.maximum(0, x)\n",
    "plt.figure()\n",
    "plt.xlim(-2,2)\n",
    "plt.ylim(0, 1)\n",
    "plt.plot(x, y)\n",
    "plt.title(\"ReLU\")\n",
    "plt.show()"
   ]
  },
  {
   "cell_type": "markdown",
   "metadata": {},
   "source": [
    "# --> Ajout des layers"
   ]
  },
  {
   "cell_type": "code",
   "execution_count": 13,
   "metadata": {},
   "outputs": [],
   "source": [
    "#Notre model sera de type sequentiel\n",
    "model = tf.keras.models.Sequential() #Chaque neurones d'une couche C est connecte a chaque neurones de la couche C-1\n",
    "#Ajout des layers\n",
    "model.add(tf.keras.layers.Dense(256, activation=\"relu\")) #256 neurones, fonction activation ReLU\n",
    "model.add(tf.keras.layers.Dense(128, activation=\"relu\")) #128 neurones, fonction activation ReLU\n",
    "#10 neurones output car 10 types de classification, activation softmax pour distribution normal probabiliste\n",
    "model.add(tf.keras.layers.Dense(10, activation=\"softmax\")) "
   ]
  },
  {
   "cell_type": "code",
   "execution_count": 14,
   "metadata": {},
   "outputs": [
    {
     "name": "stdout",
     "output_type": "stream",
     "text": [
      "Prediction du type de l'image :\n",
      " [[0.09907838 0.05593688 0.21843605 0.12892336 0.10182954 0.11812085\n",
      "  0.05836131 0.11730913 0.04697439 0.05503018]]\n",
      "\n",
      "Type de l'image [3]\n"
     ]
    }
   ],
   "source": [
    "#Tentative de prediction\n",
    "model_output = model.predict(images[3:4])\n",
    "print(\"Prediction du type de l'image :\\n\", model_output) \n",
    "print(\"\\nType de l'image\", targets[3:4])"
   ]
  },
  {
   "cell_type": "code",
   "execution_count": 15,
   "metadata": {},
   "outputs": [
    {
     "name": "stdout",
     "output_type": "stream",
     "text": [
      "Model: \"sequential\"\n",
      "_________________________________________________________________\n",
      "Layer (type)                 Output Shape              Param #   \n",
      "=================================================================\n",
      "dense (Dense)                (None, 256)               200960    \n",
      "_________________________________________________________________\n",
      "dense_1 (Dense)              (None, 128)               32896     \n",
      "_________________________________________________________________\n",
      "dense_2 (Dense)              (None, 10)                1290      \n",
      "=================================================================\n",
      "Total params: 235,146\n",
      "Trainable params: 235,146\n",
      "Non-trainable params: 0\n",
      "_________________________________________________________________\n"
     ]
    }
   ],
   "source": [
    "#On peut afficher un resume du model\n",
    "model.summary()"
   ]
  },
  {
   "cell_type": "markdown",
   "metadata": {},
   "source": [
    "# --> Qu'est ce que la categorical crossentropy ?"
   ]
  },
  {
   "cell_type": "code",
   "execution_count": 16,
   "metadata": {},
   "outputs": [
    {
     "name": "stdout",
     "output_type": "stream",
     "text": [
      "Images shape :  (5, 784)\n",
      "Targets shape :  (5,)\n",
      "Output shape :  (5, 10)\n",
      "Output :\n",
      " [[0.00488562 0.05519826 0.15045662 0.02050269 0.55584884 0.06617284\n",
      "  0.02020423 0.07465059 0.04007132 0.01200908]\n",
      " [0.02831538 0.02979533 0.21231616 0.20205668 0.23575749 0.11474312\n",
      "  0.01297724 0.07846382 0.04182736 0.04374738]\n",
      " [0.09681825 0.11005976 0.13644391 0.12910157 0.15072726 0.10099321\n",
      "  0.04344093 0.12113784 0.04282449 0.06845272]\n",
      " [0.09907833 0.0559369  0.21843602 0.12892339 0.10182954 0.11812087\n",
      "  0.05836133 0.1173091  0.04697441 0.05503016]\n",
      " [0.15392478 0.05586323 0.18405221 0.06145258 0.14825009 0.13859317\n",
      "  0.05408429 0.10254598 0.06435054 0.03688327]]\n",
      "Output apres le filtre :  [0.01200908 0.02831538 0.09681825 0.12892339 0.15392478]\n",
      "Output apres filtre et log :  [-4.4220924 -3.5643501 -2.33492   -2.048537  -1.8712913]\n",
      "Moyenne de cet output :  2.8482382\n"
     ]
    }
   ],
   "source": [
    "images_test = images[:5]                     #On ne prends que les 5 premieres images pour notre test\n",
    "labels_test = targets[:5]\n",
    "print(\"Images shape : \", images_test.shape)  #Affichage de la shape de nos images et targets\n",
    "print(\"Targets shape : \", labels_test.shape)\n",
    "outputs_test = model.predict(images_test)    #Tentative de prediction du model non entrainé pour les 5 premieres images\n",
    "print(\"Output shape : \", outputs_test.shape) #Affichage de la shape de ce resultat\n",
    "print(\"Output :\\n\", outputs_test)             #et du resultat\n",
    "\n",
    "#Ici la shape de l'output est (5,10) donc nous avons pour chacune des 5 images\n",
    "#10 valeurs qui sont les probabilites que l'image soit classifiee pour chacun des labels\n",
    "#La categorical crossentropy filtre ces 10 valeurs pour ne garder que celle qui correspond\n",
    "#a la \"bonne reponse\", celle qui devrait etre proche de 1 si le reseau est bien entraine\n",
    "#Cette fonction de perte s'occupe donc seulement de cette valeur et cela ne pose pas de\n",
    "#probleme car le softmax va creer une distribution de proportionalite sur la sortie.\n",
    "#En effet, si on on modifie cette valeur en l'augmentant, cela faire diminuer les autres\n",
    "#de par le softmax\n",
    "filtered_outputs_test = outputs_test[np.arange(5), labels_test]\n",
    "print(\"Output apres le filtre : \", filtered_outputs_test)\n",
    "\n",
    "#Nous avons maintenant les probabilites qui devrait etre augmente pour chacune des images\n",
    "#On applique alors np.log() \n",
    "#En effet des donnees mit au logarithme permet une meilleur convergence\n",
    "#On sait qu'on utilise la descente de gradient pour pouvoir minimiser une erreur\n",
    "#Quand on arrive a minimiser une erreur, on dit qu'on converge vers une solution\n",
    "#Si on utilise le logarithme cela sera plus pratique pour effectuer la descente de gradient\n",
    "#Le logarithme de change pas l'ordre croissant des valeurs car c'est une fonction\n",
    "#qui est monotone croissante\n",
    "log_filtered_outputs_test = np.log(filtered_outputs_test)\n",
    "print(\"Output apres filtre et log : \", log_filtered_outputs_test)\n",
    "\n",
    "#On veut minimiser une valeur qui est la moyenne de notre output\n",
    "#On veut que cette valeur soit positive, on ajoute donc un \"-\" devant\n",
    "print(\"Moyenne de cet output : \", - log_filtered_outputs_test.mean())\n",
    "\n",
    "#Lors de la specification de la fonction de loss avec compile() on utilise \"sparse_categorical_crossentropy\"\n",
    "#Le \"sparse_\" ici specifie que l'on peut utilise nos label comme etant [0, 1, 2, ..., 9]\n",
    "#au lieu d'utiliser une representation \"one hot encoding\", qui pour nous donner la prediction \"9\"\n",
    "#nous donnerait un vecteur one hot [0, 0, 0, 0, 0, 0, 0, 0, 0, 1]\n",
    "\n",
    "#On choisit donc sparse_ si on a des labels specifique en entree\n",
    "#on choisit categorical_crossentropy si nous avons un softmax sur l'output et plusieurs categories"
   ]
  },
  {
   "cell_type": "markdown",
   "metadata": {},
   "source": [
    "# --> Ajout de la fonction loss, optimizer, metrics"
   ]
  },
  {
   "cell_type": "code",
   "execution_count": 17,
   "metadata": {},
   "outputs": [],
   "source": [
    "#Compilation du model\n",
    "model.compile(\n",
    "    loss=\"sparse_categorical_crossentropy\",  #Fonction de perte\n",
    "    optimizer=\"sgd\",                         #Optimisation stochastic gradient descent\n",
    "    metrics=[\"accuracy\"]                     #Accuracy est la metrique que l'on veut utiliser\n",
    ")"
   ]
  },
  {
   "cell_type": "markdown",
   "metadata": {},
   "source": [
    "# --> Entrainement du model"
   ]
  },
  {
   "cell_type": "code",
   "execution_count": 18,
   "metadata": {},
   "outputs": [
    {
     "name": "stdout",
     "output_type": "stream",
     "text": [
      "Epoch 1/10\n",
      "200/200 [==============================] - 1s 2ms/step - loss: 1.2613 - accuracy: 0.5879 - val_loss: 0.6455 - val_accuracy: 0.7756\n",
      "Epoch 2/10\n",
      "200/200 [==============================] - 0s 943us/step - loss: 0.5709 - accuracy: 0.8006 - val_loss: 0.5355 - val_accuracy: 0.8087\n",
      "Epoch 3/10\n",
      "200/200 [==============================] - 0s 977us/step - loss: 0.4722 - accuracy: 0.8336 - val_loss: 0.4962 - val_accuracy: 0.8150\n",
      "Epoch 4/10\n",
      "200/200 [==============================] - 0s 977us/step - loss: 0.4140 - accuracy: 0.8556 - val_loss: 0.4814 - val_accuracy: 0.8288\n",
      "Epoch 5/10\n",
      "200/200 [==============================] - 0s 972us/step - loss: 0.3918 - accuracy: 0.8593 - val_loss: 0.4587 - val_accuracy: 0.8344\n",
      "Epoch 6/10\n",
      "200/200 [==============================] - 0s 1ms/step - loss: 0.3596 - accuracy: 0.8802 - val_loss: 0.4522 - val_accuracy: 0.8356\n",
      "Epoch 7/10\n",
      "200/200 [==============================] - 0s 957us/step - loss: 0.3070 - accuracy: 0.8946 - val_loss: 0.4416 - val_accuracy: 0.8338\n",
      "Epoch 8/10\n",
      "200/200 [==============================] - 0s 952us/step - loss: 0.2899 - accuracy: 0.9048 - val_loss: 0.4331 - val_accuracy: 0.8431\n",
      "Epoch 9/10\n",
      "200/200 [==============================] - 0s 1ms/step - loss: 0.2797 - accuracy: 0.9127 - val_loss: 0.4303 - val_accuracy: 0.8419\n",
      "Epoch 10/10\n",
      "200/200 [==============================] - 0s 1ms/step - loss: 0.2756 - accuracy: 0.9081 - val_loss: 0.4332 - val_accuracy: 0.8400\n"
     ]
    }
   ],
   "source": [
    "#Entrainement du model\n",
    "#On passe 10 fois sur l'entierete du datasat\n",
    "#On prends 20% pour le validation set\n",
    "history = model.fit(images_train, targets_train, epochs=10, validation_split=0.2) "
   ]
  },
  {
   "cell_type": "markdown",
   "metadata": {},
   "source": [
    "# --> Affichage des courbes après entrainement"
   ]
  },
  {
   "cell_type": "code",
   "execution_count": 19,
   "metadata": {},
   "outputs": [
    {
     "data": {
      "image/png": "[encoded data removed]",
      "text/plain": [
       "<Figure size 432x288 with 1 Axes>"
      ]
     },
     "metadata": {
      "needs_background": "light"
     },
     "output_type": "display_data"
    },
    {
     "data": {
      "image/png": "[encoded data removed]",
      "text/plain": [
       "<Figure size 432x288 with 1 Axes>"
      ]
     },
     "metadata": {
      "needs_background": "light"
     },
     "output_type": "display_data"
    }
   ],
   "source": [
    "#Affichage des resultats finaux\n",
    "\n",
    "#Train set data\n",
    "loss_curve = history.history[\"loss\"]\n",
    "acc_curve = history.history[\"accuracy\"]\n",
    "#Validation set data\n",
    "val_loss_curve = history.history[\"val_loss\"]\n",
    "val_acc_curve = history.history[\"val_accuracy\"]\n",
    "\n",
    "#Loss plot\n",
    "plt.plot(loss_curve, label=\"Train set\")\n",
    "plt.plot(val_loss_curve, label=\"Validation set\")\n",
    "plt.legend(loc='upper left')\n",
    "plt.title(\"Loss\")\n",
    "plt.show()\n",
    "\n",
    "#Accuracy plot\n",
    "plt.plot(acc_curve, label=\"Train set\")\n",
    "plt.plot(val_acc_curve, label=\"Validation set\")\n",
    "plt.legend(loc='upper left')\n",
    "plt.title(\"Accuracy\")\n",
    "plt.show()"
   ]
  },
  {
   "cell_type": "markdown",
   "metadata": {},
   "source": [
    "# --> Sauveguarder son model"
   ]
  },
  {
   "cell_type": "code",
   "execution_count": 20,
   "metadata": {},
   "outputs": [],
   "source": [
    "model.save(\"first_nn.h5\") #Sauveguarder le model first_nn.h5 pour le reutiliser"
   ]
  },
  {
   "cell_type": "code",
   "execution_count": 21,
   "metadata": {},
   "outputs": [
    {
     "name": "stdout",
     "output_type": "stream",
     "text": [
      "Prediction du saved model sur l'image 1 :\n",
      " [[2.0552970e-07 1.6021484e-05 1.2554485e-05 3.2346142e-07 2.2820004e-04\n",
      "  7.7265548e-03 9.2283080e-06 4.6617356e-03 8.1555778e-04 9.8652959e-01]]\n"
     ]
    }
   ],
   "source": [
    "loaded_model = tf.keras.models.load_model(\"first_nn.h5\") #Charge le model\n",
    "output = loaded_model.predict(images_test[0:1])\n",
    "print(\"Prediction du saved model sur l'image 1 :\\n\", output)"
   ]
  }
 ],
 "metadata": {
  "kernelspec": {
   "display_name": "Python 3",
   "language": "python",
   "name": "python3"
  },
  "language_info": {
   "codemirror_mode": {
    "name": "ipython",
    "version": 3
   },
   "file_extension": ".py",
   "mimetype": "text/x-python",
   "name": "python",
   "nbconvert_exporter": "python",
   "pygments_lexer": "ipython3",
   "version": "3.8.5"
  }
 },
 "nbformat": 4,
 "nbformat_minor": 4
}
