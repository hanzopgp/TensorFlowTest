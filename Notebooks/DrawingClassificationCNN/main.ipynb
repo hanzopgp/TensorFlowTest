{
 "cells": [
  {
   "cell_type": "markdown",
   "metadata": {},
   "source": [
    "# --> Importations\n",
    "\n",
    "To start this notebook you need to download the following files.\n",
    "\n",
    "- full_numpy_bitmap_airplane.npy\n",
    "- full_numpy_bitmap_book.npy\n",
    "- full_numpy_bitmap_car.npy\n",
    "- full_numpy_bitmap_dog.npy\n",
    "- full_numpy_bitmap_face.npy\n",
    "- full_numpy_bitmap_apple.npy\n",
    "- full_numpy_bitmap_brain.npy\n",
    "- full_numpy_bitmap_chair.npy\n",
    "- full_numpy_bitmap_eye.npy\n",
    "- full_numpy_bitmap_The Eiffel Tower.npy\n",
    "\n",
    "Then you need to store the file at the root in ./Datasets/QuickDraw.<br>\n",
    "\n",
    "Link : https://console.cloud.google.com/storage/browser/quickdraw_dataset/full/numpy_bitmap/?pli=1"
   ]
  },
  {
   "cell_type": "code",
   "execution_count": null,
   "metadata": {},
   "outputs": [],
   "source": [
    "import tensorflow as tf\n",
    "import numpy as np\n",
    "import matplotlib.pyplot as plt\n",
    "import os\n",
    "from sklearn.model_selection import train_test_split\n",
    "from sklearn.preprocessing import StandardScaler"
   ]
  },
  {
   "cell_type": "markdown",
   "metadata": {},
   "source": [
    "# --> Import QuickDraw dataset"
   ]
  },
  {
   "cell_type": "code",
   "execution_count": null,
   "metadata": {},
   "outputs": [],
   "source": [
    "dataset_dir = \"../../Datasets/QuickDraw/\"\n",
    "files = os.listdir(dataset_dir)\n",
    "max_size_per_cl = 1500 #maximum d'image par type d'image dans le dataset\n",
    "draw_class = []\n",
    "size = 0\n",
    "\n",
    "#Evaluation de la taille du dataset\n",
    "for name in files:\n",
    "    draws = np.load(os.path.join(dataset_dir, name))\n",
    "    draw = draws[:max_size_per_cl]\n",
    "    size += draws.shape[0]\n",
    "    \n",
    "#Buffer permettant de stocker les images et les targets\n",
    "images = np.zeros((size, 28, 28))\n",
    "targets = np.zeros((size, ))\n",
    "\n",
    "#Itere dans la dataset et ajoute a la liste draw_class\n",
    "it = 0\n",
    "t = 0\n",
    "for name in files:\n",
    "    #Ouvre chaque dataset et creer une nouvelle classe avec un nom\n",
    "    draw_class.append(name.replace(\"full_numpy_bitmap_\", \"\").replace(\".npy\", \"\"))\n",
    "    draws = np.load(os.path.join(dataset_dir, name))\n",
    "    draws = draws[:max_size_per_cl]\n",
    "    #Ajoute les images au buffers\n",
    "    images[it:it+draws.shape[0]] = np.invert(draws.reshape(-1, 28, 28))\n",
    "    targets[it:it+draws.shape[0]] = t\n",
    "    #Itere sur chaque dataset\n",
    "    it += draws.shape[0]\n",
    "    t += 1\n",
    "    \n",
    "#Shuffle randomly\n",
    "indexes = np.arange(size)\n",
    "np.random.shuffle(indexes)\n",
    "images = images[indexes]\n",
    "targets = targets[indexes]\n",
    "\n",
    "#Affichage de notre train set et validation set\n",
    "images, images_valid, targets, targets_valid = train_test_split(images, targets, test_size=0.33)\n",
    "print(\"Shape images : \", images.shape)\n",
    "print(\"Shape targets : \", targets.shape)\n",
    "print(\"\\nShape valid images : \", images_valid.shape)\n",
    "print(\"Shape valid targets : \", targets_valid.shape)\n",
    "print(\"\\nClasses possibles : \", draw_class)"
   ]
  },
  {
   "cell_type": "markdown",
   "metadata": {},
   "source": [
    "# --> Exemple d'image affiche"
   ]
  },
  {
   "cell_type": "code",
   "execution_count": null,
   "metadata": {},
   "outputs": [],
   "source": [
    "w = 10\n",
    "h = 10\n",
    "fig = plt.figure(figsize=(8, 8))\n",
    "columns = 4\n",
    "rows = 5\n",
    "for i in range(1, columns*rows+1):\n",
    "    index = np.random.randint(len(images))     #Index d'une image aleatoire\n",
    "    img = images[index]                        #On recupere cette image\n",
    "    fig.add_subplot(rows, columns, i)          #Ajout d'un nouveau graph 4*5\n",
    "    plt.title(draw_class[int(targets[index])]) #Ajout d'un titre par plot\n",
    "    plt.imshow(img, cmap=\"gray\")               #Affichage de l'image en noir et blanc\n",
    "plt.show()"
   ]
  },
  {
   "cell_type": "markdown",
   "metadata": {},
   "source": [
    "# --> Normalization"
   ]
  },
  {
   "cell_type": "code",
   "execution_count": null,
   "metadata": {},
   "outputs": [],
   "source": [
    "print(\"Moyenne et ecart type du dataset : \", images.mean(), images.std())\n",
    "scaler = StandardScaler()\n",
    "scaled_images = scaler.fit_transform(images.reshape(-1, 28*28))\n",
    "scaled_images_valid = scaler.transform(images_valid.reshape(-1, 28*28))\n",
    "print(\"Moyenne et ecart type du dataset apres normalisation : \", scaled_images.mean(), scaled_images.std())\n",
    "\n",
    "scaled_images = scaled_images.reshape(-1, 28, 28, 1)\n",
    "scaled_images_valid = scaled_images_valid.reshape(-1, 28, 28, 1)"
   ]
  },
  {
   "cell_type": "code",
   "execution_count": null,
   "metadata": {},
   "outputs": [],
   "source": []
  }
 ],
 "metadata": {
  "kernelspec": {
   "display_name": "Python [conda env:tensorflow-gpu]",
   "language": "python",
   "name": "conda-env-tensorflow-gpu-py"
  },
  "language_info": {
   "codemirror_mode": {
    "name": "ipython",
    "version": 3
   },
   "file_extension": ".py",
   "mimetype": "text/x-python",
   "name": "python",
   "nbconvert_exporter": "python",
   "pygments_lexer": "ipython3",
   "version": "3.8.5"
  }
 },
 "nbformat": 4,
 "nbformat_minor": 4
}
