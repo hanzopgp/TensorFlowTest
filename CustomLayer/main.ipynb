{
 "cells": [
  {
   "cell_type": "markdown",
   "metadata": {},
   "source": [
    "# --> Importations"
   ]
  },
  {
   "cell_type": "code",
   "execution_count": 50,
   "metadata": {},
   "outputs": [],
   "source": [
    "import tensorflow as tf\n",
    "import numpy as np"
   ]
  },
  {
   "cell_type": "markdown",
   "metadata": {},
   "source": [
    "# --> Custom layers class"
   ]
  },
  {
   "cell_type": "code",
   "execution_count": 55,
   "metadata": {},
   "outputs": [],
   "source": [
    "#Jusqu'ici on utilisait Dense() pour creer notre layer, Dense() permet de creer une couche\n",
    "#qui est connecte avec tous les neurones de la couche precedente. On va voir ici comment\n",
    "#creer notre propre couches. Conv() est un autre type de couche disponible avec tensorflow.\n",
    "#On va ici creer notre propre classe grace au subclassing.\n",
    "class CustomLayer(tf.keras.layers.Layer): #Ici on va creer une MLP layer\n",
    "    \n",
    "    def __init__(self, units, activations, **kwargs): #Initialisation des layers\n",
    "        super(CustomLayer, self).__init__(**kwargs)\n",
    "        self.units = units #Nombre de layers que l'on doit creer\n",
    "        self.activations = activations\n",
    "        self.weights_list = [] #Initialisation de notre liste de poids dans la couche\n",
    "        \n",
    "    #Appel lors du premier predict(), permet de creer tous les poids de nos couches\n",
    "    def build(self, input_shape):\n",
    "        layerNb = 0;\n",
    "        for unit in self.units:\n",
    "            print(\"Unit : \", unit, \", Input_shape : \", input_shape)\n",
    "            #On utilise la fonction add_weight vu qu'on herite de la classe keras Layer\n",
    "            weights = self.add_weight(              \n",
    "                            name=\"weight-%s\" % (layerNb), #Nom des poids\n",
    "                            #Shape des poids, input_shape = (None, 10) et unit = [4, 2]\n",
    "                            shape=(input_shape[1], unit), \n",
    "                            #Initialisation aleatoire des poids suivant une distribution\n",
    "                            #de type uniforme\n",
    "                            initializer=\"uniform\",\n",
    "                            #Ces poids la peuvent etre modifies lors de la descente de \n",
    "                            #gradient et de l'entrainement du model\n",
    "                            trainable=True\n",
    "                            )\n",
    "            self.weights_list.append(weights) #Ajout des poids a notre liste\n",
    "            input_shape = (None, unit) #\n",
    "            layerNb += 1\n",
    "        super(CustomLayer, self).build(input_shape) #Build de la class parente\n",
    "        \n",
    "    #La methode call() permet de set up la valeur d'acivation de nos couches\n",
    "    def call(self, x):\n",
    "        output = x\n",
    "        for weights, activation in zip(self.weights_list, self.activations):\n",
    "            print(weights, activation)\n",
    "            #Chacun des neurones d'un layer va etre multiplier par les poids\n",
    "            output = tf.matmul(output, weights)\n",
    "            #Application des fonctions d'activations sur l'output de la couche\n",
    "            if activation == \"relu\":\n",
    "                output = tf.nn.relu(output)\n",
    "            elif activation == \"sigmoid\":\n",
    "                output = tf.nn.sigmoid(output)\n",
    "            elif activation == \"softmax\":\n",
    "                output = tf.nn.softmax(output)\n",
    "        return output\n",
    "        "
   ]
  },
  {
   "cell_type": "markdown",
   "metadata": {},
   "source": [
    "# --> Ajout de la couche personnalisee au model"
   ]
  },
  {
   "cell_type": "code",
   "execution_count": 56,
   "metadata": {},
   "outputs": [
    {
     "name": "stdout",
     "output_type": "stream",
     "text": [
      "Unit :  4 , Input_shape :  (None, 5)\n",
      "Unit :  2 , Input_shape :  (None, 4)\n",
      "<tf.Variable 'custom_layer_17/weight-0:0' shape=(5, 4) dtype=float32> relu\n",
      "<tf.Variable 'custom_layer_17/weight-1:0' shape=(4, 2) dtype=float32> softmax\n",
      "<tf.Variable 'custom_layer_17/weight-0:0' shape=(5, 4) dtype=float32> relu\n",
      "<tf.Variable 'custom_layer_17/weight-1:0' shape=(4, 2) dtype=float32> softmax\n",
      "<tf.Variable 'custom_layer_17/weight-0:0' shape=(5, 4) dtype=float32> relu\n",
      "<tf.Variable 'custom_layer_17/weight-1:0' shape=(4, 2) dtype=float32> softmax\n",
      "WARNING:tensorflow:11 out of the last 11 calls to <function Model.make_predict_function.<locals>.predict_function at 0x000002690E246940> triggered tf.function retracing. Tracing is expensive and the excessive number of tracings could be due to (1) creating @tf.function repeatedly in a loop, (2) passing tensors with different shapes, (3) passing Python objects instead of tensors. For (1), please define your @tf.function outside of the loop. For (2), @tf.function has experimental_relax_shapes=True option that relaxes argument shapes that can avoid unnecessary retracing. For (3), please refer to https://www.tensorflow.org/guide/function#controlling_retracing and https://www.tensorflow.org/api_docs/python/tf/function for  more details.\n",
      "Predictions :\n",
      " [[0.5 0.5]\n",
      " [0.5 0.5]\n",
      " [0.5 0.5]\n",
      " [0.5 0.5]\n",
      " [0.5 0.5]]\n"
     ]
    }
   ],
   "source": [
    "model = tf.keras.models.Sequential()\n",
    "#2 layers, une de 4 et une de 2 neurones. Activation relu puis softmax.\n",
    "#Le __init__() est trigger dans le add()\n",
    "#On ne sait pas encore quel input on va recevoir dans ces couches.\n",
    "model.add(tf.keras.layers.Dense(5, activation=\"relu\")) #On peut ajouter des couches non personnalisee\n",
    "model.add(CustomLayer([4, 2], [\"relu\", \"softmax\"])) \n",
    "prediction = model.predict(np.zeros((5, 10))) #Notre methode build() est appele lors de la prediction\n",
    "print(\"Predictions :\\n\", prediction)"
   ]
  }
 ],
 "metadata": {
  "kernelspec": {
   "display_name": "Python [conda env:tensorflow-gpu]",
   "language": "python",
   "name": "conda-env-tensorflow-gpu-py"
  },
  "language_info": {
   "codemirror_mode": {
    "name": "ipython",
    "version": 3
   },
   "file_extension": ".py",
   "mimetype": "text/x-python",
   "name": "python",
   "nbconvert_exporter": "python",
   "pygments_lexer": "ipython3",
   "version": "3.8.5"
  }
 },
 "nbformat": 4,
 "nbformat_minor": 4
}
