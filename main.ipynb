{
 "cells": [
  {
   "cell_type": "code",
   "execution_count": 126,
   "metadata": {},
   "outputs": [],
   "source": [
    "import tensorflow as tf\n",
    "import numpy as np\n",
    "import pandas as pd\n",
    "import matplotlib.pyplot as plt"
   ]
  },
  {
   "cell_type": "code",
   "execution_count": 127,
   "metadata": {},
   "outputs": [
    {
     "name": "stdout",
     "output_type": "stream",
     "text": [
      "Shape des images :  (10000, 784)\n",
      "\n",
      "Shape de notre liste de classification :  (10000,)\n"
     ]
    }
   ],
   "source": [
    "#Fashio MNIST\n",
    "fashion_mnist = tf.keras.datasets.fashion_mnist #Librairie dataset\n",
    "(images, targets), (_, _) = fashion_mnist.load_data() #On ignore les informations avec _\n",
    "images = images[:10000] #On ne prend pas tout le dataset pour aller plus vite\n",
    "targets = targets[:10000]\n",
    "\n",
    "\n",
    "from sklearn.preprocessing import StandardScaler\n",
    "images = images.reshape(-1, 784)\n",
    "images = images.astype(float)\n",
    "scaler = StandardScaler()\n",
    "images = scaler.fit_transform(images)\n",
    "\n",
    "\n",
    "print(\"Shape des images : \", images.shape)\n",
    "print(\"\\nShape de notre liste de classification : \", targets.shape)\n",
    "#print(images[0]) #Tableau 2D de niveau de gris (0 a 255)\n",
    "#print(targets[0]) #Numero de la classe"
   ]
  },
  {
   "cell_type": "code",
   "execution_count": 128,
   "metadata": {},
   "outputs": [
    {
     "data": {
      "image/png": "[encoded data removed]",
      "text/plain": [
       "<Figure size 432x288 with 1 Axes>"
      ]
     },
     "metadata": {
      "needs_background": "light"
     },
     "output_type": "display_data"
    }
   ],
   "source": [
    "targets_names = [\"T-shirt/top\", \"Trouser\", \"Pullover\", \"Dress\", \"Coat\", \"Sandal\", \"Shirt\", \"Sneaker\", \"Bad\", \"Ankle boot\"]\n",
    "plt.imshow(np.reshape(images[11], (28, 28)), cmap=\"binary\")\n",
    "plt.title(targets_names[targets[11]])\n",
    "plt.show()"
   ]
  },
  {
   "cell_type": "code",
   "execution_count": 129,
   "metadata": {},
   "outputs": [],
   "source": [
    "#print(images[10][0]) #Affiche première ligne de l'image 10\n",
    "#print(targets_names[targets[10]]) #Type de cette image"
   ]
  },
  {
   "cell_type": "code",
   "execution_count": 130,
   "metadata": {},
   "outputs": [
    {
     "name": "stdout",
     "output_type": "stream",
     "text": [
      "Taille pixel image :  784\n",
      "\n",
      "Nombre de classificiation :  10\n"
     ]
    }
   ],
   "source": [
    "#On veut creer un reseau de neurone avec 784 input\n",
    "print(\"Taille pixel image : \", images[0].size)\n",
    "#On veut 2 layers dont la premiere a 256 neurones et la deuxieme 128\n",
    "#Notre output layer aura 10 neurones car 10 types de classification\n",
    "print(\"\\nNombre de classificiation : \", len(targets_names))"
   ]
  },
  {
   "cell_type": "code",
   "execution_count": 131,
   "metadata": {},
   "outputs": [],
   "source": [
    "#Comment formater les données en input\n",
    "#model = tf.keras.models.Sequential() #On creer un model sequentiel\n",
    "#model.add(tf.keras.layers.Flatten(input_shape=[28, 28])) #On flatten notre image 28 par 28\n",
    "#print(\"Shape avant flatten : \", images[0:1].shape) #On voit ici qu'elle est en 2D\n",
    "#model_output = model.predict(images[0:1])\n",
    "#print(\"Shape après flatten : \", model_output.shape) #On voit ici qu'elle a bien été flatten"
   ]
  },
  {
   "cell_type": "code",
   "execution_count": 132,
   "metadata": {},
   "outputs": [],
   "source": [
    "#Formatage des donnees en input\n",
    "model = tf.keras.models.Sequential() #Chaque neurones d'une couche C est connecte a chaque neurones de la couche C-1\n",
    "model.add(tf.keras.layers.Flatten(input_shape=[28, 28])) #Nouvelle shape 28*28 en entree"
   ]
  },
  {
   "cell_type": "code",
   "execution_count": 133,
   "metadata": {},
   "outputs": [],
   "source": [
    "#Ajout des layers\n",
    "model.add(tf.keras.layers.Dense(256, activation=\"relu\")) #256 neurones, fonction activation ReLU\n",
    "model.add(tf.keras.layers.Dense(128, activation=\"relu\")) #128 neurones, fonction activation ReLU\n",
    "#10 neurones output car 10 types de classification, activation softmax pour distribution normal probabiliste\n",
    "model.add(tf.keras.layers.Dense(10, activation=\"softmax\")) "
   ]
  },
  {
   "cell_type": "code",
   "execution_count": 134,
   "metadata": {},
   "outputs": [],
   "source": [
    "#Tentative de prediction\n",
    "#model_output = model.predict(images[3:4])\n",
    "#print(\"Prediction du type de l'image : \", model_output) \n",
    "#print(\"\\nType de l'image\", targets[3:4])"
   ]
  },
  {
   "cell_type": "code",
   "execution_count": 135,
   "metadata": {},
   "outputs": [
    {
     "name": "stdout",
     "output_type": "stream",
     "text": [
      "Model: \"sequential_7\"\n",
      "_________________________________________________________________\n",
      "Layer (type)                 Output Shape              Param #   \n",
      "=================================================================\n",
      "flatten_7 (Flatten)          (None, 784)               0         \n",
      "_________________________________________________________________\n",
      "dense_22 (Dense)             (None, 256)               200960    \n",
      "_________________________________________________________________\n",
      "dense_23 (Dense)             (None, 128)               32896     \n",
      "_________________________________________________________________\n",
      "dense_24 (Dense)             (None, 10)                1290      \n",
      "=================================================================\n",
      "Total params: 235,146\n",
      "Trainable params: 235,146\n",
      "Non-trainable params: 0\n",
      "_________________________________________________________________\n"
     ]
    }
   ],
   "source": [
    "#On peut afficher un resume du model\n",
    "model.summary()"
   ]
  },
  {
   "cell_type": "code",
   "execution_count": 136,
   "metadata": {},
   "outputs": [],
   "source": [
    "#Compilation du model\n",
    "model.compile(\n",
    "    loss=\"sparse_categorical_crossentropy\",  #Fonction de perte\n",
    "    optimizer=\"sgd\",                         #Optimisation stochastic gradient descent\n",
    "    metrics=[\"accuracy\"]                     #Accuracy est la metrique que l'on veut utiliser\n",
    ")"
   ]
  },
  {
   "cell_type": "code",
   "execution_count": 137,
   "metadata": {},
   "outputs": [
    {
     "name": "stdout",
     "output_type": "stream",
     "text": [
      "Epoch 1/10\n",
      "WARNING:tensorflow:Model was constructed with shape (None, 28, 28) for input KerasTensor(type_spec=TensorSpec(shape=(None, 28, 28), dtype=tf.float32, name='flatten_7_input'), name='flatten_7_input', description=\"created by layer 'flatten_7_input'\"), but it was called on an input with incompatible shape (None, 784).\n",
      "WARNING:tensorflow:Model was constructed with shape (None, 28, 28) for input KerasTensor(type_spec=TensorSpec(shape=(None, 28, 28), dtype=tf.float32, name='flatten_7_input'), name='flatten_7_input', description=\"created by layer 'flatten_7_input'\"), but it was called on an input with incompatible shape (None, 784).\n",
      "313/313 [==============================] - 0s 761us/step - loss: 1.1347 - accuracy: 0.6411\n",
      "Epoch 2/10\n",
      "313/313 [==============================] - 0s 793us/step - loss: 0.5117 - accuracy: 0.8237\n",
      "Epoch 3/10\n",
      "313/313 [==============================] - 0s 779us/step - loss: 0.4298 - accuracy: 0.8509\n",
      "Epoch 4/10\n",
      "313/313 [==============================] - 0s 775us/step - loss: 0.3836 - accuracy: 0.8656\n",
      "Epoch 5/10\n",
      "313/313 [==============================] - 0s 824us/step - loss: 0.3587 - accuracy: 0.8773\n",
      "Epoch 6/10\n",
      "313/313 [==============================] - 0s 790us/step - loss: 0.3249 - accuracy: 0.8892\n",
      "Epoch 7/10\n",
      "313/313 [==============================] - 0s 770us/step - loss: 0.3049 - accuracy: 0.8928\n",
      "Epoch 8/10\n",
      "313/313 [==============================] - 0s 774us/step - loss: 0.2965 - accuracy: 0.8950\n",
      "Epoch 9/10\n",
      "313/313 [==============================] - 0s 855us/step - loss: 0.2703 - accuracy: 0.9047\n",
      "Epoch 10/10\n",
      "313/313 [==============================] - 0s 781us/step - loss: 0.2531 - accuracy: 0.9135\n"
     ]
    }
   ],
   "source": [
    "#Entrainement du model\n",
    "history = model.fit(images, targets, epochs=10) #On passe 10 fois sur l'entierete du datasat"
   ]
  },
  {
   "cell_type": "code",
   "execution_count": 138,
   "metadata": {},
   "outputs": [
    {
     "data": {
      "image/png": "[encoded data removed]",
      "text/plain": [
       "<Figure size 432x288 with 1 Axes>"
      ]
     },
     "metadata": {
      "needs_background": "light"
     },
     "output_type": "display_data"
    },
    {
     "data": {
      "image/png": "[encoded data removed]",
      "text/plain": [
       "<Figure size 432x288 with 1 Axes>"
      ]
     },
     "metadata": {
      "needs_background": "light"
     },
     "output_type": "display_data"
    }
   ],
   "source": [
    "#Affichage des resultats finaux\n",
    "loss_curve = history.history[\"loss\"]\n",
    "acc_curve = history.history[\"accuracy\"]\n",
    "plt.plot(loss_curve)\n",
    "plt.title(\"Loss\")\n",
    "plt.show()\n",
    "plt.plot(acc_curve)\n",
    "plt.title(\"Accuracy\")\n",
    "plt.show()"
   ]
  }
 ],
 "metadata": {
  "kernelspec": {
   "display_name": "Python 3",
   "language": "python",
   "name": "python3"
  },
  "language_info": {
   "codemirror_mode": {
    "name": "ipython",
    "version": 3
   },
   "file_extension": ".py",
   "mimetype": "text/x-python",
   "name": "python",
   "nbconvert_exporter": "python",
   "pygments_lexer": "ipython3",
   "version": "3.8.5"
  }
 },
 "nbformat": 4,
 "nbformat_minor": 4
}
