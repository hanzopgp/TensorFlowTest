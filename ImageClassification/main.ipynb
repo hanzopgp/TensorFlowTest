{
 "cells": [
  {
   "cell_type": "code",
   "execution_count": 203,
   "metadata": {},
   "outputs": [],
   "source": [
    "import tensorflow as tf\n",
    "import numpy as np\n",
    "import pandas as pd\n",
    "import matplotlib.pyplot as plt"
   ]
  },
  {
   "cell_type": "code",
   "execution_count": 204,
   "metadata": {},
   "outputs": [
    {
     "name": "stdout",
     "output_type": "stream",
     "text": [
      "Avant normalisation\n",
      "Moyenne valeur pixel:  73.00877385204082\n",
      "Ecart type valeur pixel:  90.2745808471392\n",
      "Apres normalisation\n",
      "Moyenne valeur pixel:  -1.0476880134421886e-18\n",
      "Ecart type valeur pixel:  1.0000000000000007\n",
      "\n",
      "Shape des images :  (10000, 784)\n",
      "Shape de notre liste de classification :  (10000,)\n"
     ]
    }
   ],
   "source": [
    "#Fashio MNIST\n",
    "fashion_mnist = tf.keras.datasets.fashion_mnist #Librairie dataset\n",
    "(images, targets), (_, _) = fashion_mnist.load_data() #On ignore les informations avec _\n",
    "images = images[:10000] #On ne prend pas tout le dataset pour aller plus vite\n",
    "targets = targets[:10000]\n",
    "\n",
    "#Normalisation des valeurs de 0 a 255 => 0 a 1\n",
    "from sklearn.preprocessing import StandardScaler\n",
    "print(\"Avant normalisation\")\n",
    "print(\"Moyenne valeur pixel: \", images.mean())   #On voit que ces deux valeurs sont beaucoup\n",
    "print(\"Ecart type valeur pixel: \", images.std()) #trop eleves, il faut donc normaliser\n",
    "images = images.reshape(-1, 784)                 #On flatten les images en entree 2D => 1D\n",
    "images = images.astype(float)                    #On definit les valeurs comme etant des float\n",
    "scaler = StandardScaler()                        #StandardScaler est une fonction de normalisation qui diminue l'ecart type des valeurs\n",
    "images = scaler.fit_transform(images)\n",
    "print(\"Apres normalisation\")\n",
    "print(\"Moyenne valeur pixel: \", images.mean())   #On voit que ces deux valeurs ont bien\n",
    "print(\"Ecart type valeur pixel: \", images.std()) #change et que la normalisation a eu lieu\n",
    "\n",
    "#Affichage de nos shape\n",
    "print(\"\\nShape des images : \", images.shape)\n",
    "print(\"Shape de notre liste de classification : \", targets.shape)\n",
    "#print(images[0]) #Tableau 2D de niveau de gris (0 a 255)\n",
    "#print(targets[0]) #Numero de la classe"
   ]
  },
  {
   "cell_type": "code",
   "execution_count": 205,
   "metadata": {},
   "outputs": [
    {
     "data": {
      "image/png": "[encoded data removed]",
      "text/plain": [
       "<Figure size 432x288 with 1 Axes>"
      ]
     },
     "metadata": {
      "needs_background": "light"
     },
     "output_type": "display_data"
    }
   ],
   "source": [
    "targets_names = [\"T-shirt/top\", \"Trouser\", \"Pullover\", \"Dress\", \"Coat\", \"Sandal\", \"Shirt\", \"Sneaker\", \"Bad\", \"Ankle boot\"]\n",
    "plt.imshow(np.reshape(images[11], (28, 28)), cmap=\"binary\") #On precise avec \"binary\" que nous somme sur une image en noir et blanc\n",
    "plt.title(targets_names[targets[11]])\n",
    "plt.show()"
   ]
  },
  {
   "cell_type": "code",
   "execution_count": 206,
   "metadata": {},
   "outputs": [],
   "source": [
    "#print(images[10][0]) #Affiche première ligne de l'image 10\n",
    "#print(targets_names[targets[10]]) #Type de cette image"
   ]
  },
  {
   "cell_type": "code",
   "execution_count": 207,
   "metadata": {},
   "outputs": [
    {
     "name": "stdout",
     "output_type": "stream",
     "text": [
      "Taille pixel image :  784\n",
      "\n",
      "Nombre de classificiation :  10\n"
     ]
    }
   ],
   "source": [
    "#On veut creer un reseau de neurone avec 784 input\n",
    "print(\"Taille pixel image : \", images[0].size)\n",
    "#On veut 2 layers dont la premiere a 256 neurones et la deuxieme 128\n",
    "#Notre output layer aura 10 neurones car 10 types de classification\n",
    "print(\"\\nNombre de classificiation : \", len(targets_names))"
   ]
  },
  {
   "cell_type": "code",
   "execution_count": 208,
   "metadata": {},
   "outputs": [],
   "source": [
    "#Comment formater les données en input\n",
    "#model = tf.keras.models.Sequential() #On creer un model sequentiel\n",
    "#model.add(tf.keras.layers.Flatten(input_shape=[28, 28])) #On flatten notre image 28 par 28\n",
    "#print(\"Shape avant flatten : \", images[0:1].shape) #On voit ici qu'elle est en 2D\n",
    "#model_output = model.predict(images[0:1])\n",
    "#print(\"Shape après flatten : \", model_output.shape) #On voit ici qu'elle a bien été flatten"
   ]
  },
  {
   "cell_type": "code",
   "execution_count": 209,
   "metadata": {},
   "outputs": [],
   "source": [
    "#Notre model sera de type sequentiel\n",
    "model = tf.keras.models.Sequential() #Chaque neurones d'une couche C est connecte a chaque neurones de la couche C-1\n",
    "#Ajout des layers\n",
    "model.add(tf.keras.layers.Dense(256, activation=\"relu\")) #256 neurones, fonction activation ReLU\n",
    "model.add(tf.keras.layers.Dense(128, activation=\"relu\")) #128 neurones, fonction activation ReLU\n",
    "#10 neurones output car 10 types de classification, activation softmax pour distribution normal probabiliste\n",
    "model.add(tf.keras.layers.Dense(10, activation=\"softmax\")) "
   ]
  },
  {
   "cell_type": "code",
   "execution_count": 210,
   "metadata": {},
   "outputs": [
    {
     "name": "stdout",
     "output_type": "stream",
     "text": [
      "WARNING:tensorflow:7 out of the last 13 calls to <function Model.make_predict_function.<locals>.predict_function at 0x000001BDAAF9E040> triggered tf.function retracing. Tracing is expensive and the excessive number of tracings could be due to (1) creating @tf.function repeatedly in a loop, (2) passing tensors with different shapes, (3) passing Python objects instead of tensors. For (1), please define your @tf.function outside of the loop. For (2), @tf.function has experimental_relax_shapes=True option that relaxes argument shapes that can avoid unnecessary retracing. For (3), please refer to https://www.tensorflow.org/guide/function#controlling_retracing and https://www.tensorflow.org/api_docs/python/tf/function for  more details.\n",
      "Prediction du type de l'image :  [[0.08700489 0.21966562 0.04230246 0.06032282 0.07497357 0.09915981\n",
      "  0.0762412  0.06896216 0.06753705 0.20383048]]\n",
      "\n",
      "Type de l'image [3]\n"
     ]
    }
   ],
   "source": [
    "#Tentative de prediction\n",
    "model_output = model.predict(images[3:4])\n",
    "print(\"Prediction du type de l'image : \", model_output) \n",
    "print(\"\\nType de l'image\", targets[3:4])"
   ]
  },
  {
   "cell_type": "code",
   "execution_count": 211,
   "metadata": {},
   "outputs": [
    {
     "name": "stdout",
     "output_type": "stream",
     "text": [
      "Model: \"sequential_13\"\n",
      "_________________________________________________________________\n",
      "Layer (type)                 Output Shape              Param #   \n",
      "=================================================================\n",
      "dense_40 (Dense)             (None, 256)               200960    \n",
      "_________________________________________________________________\n",
      "dense_41 (Dense)             (None, 128)               32896     \n",
      "_________________________________________________________________\n",
      "dense_42 (Dense)             (None, 10)                1290      \n",
      "=================================================================\n",
      "Total params: 235,146\n",
      "Trainable params: 235,146\n",
      "Non-trainable params: 0\n",
      "_________________________________________________________________\n"
     ]
    }
   ],
   "source": [
    "#On peut afficher un resume du model\n",
    "model.summary()"
   ]
  },
  {
   "cell_type": "code",
   "execution_count": 212,
   "metadata": {},
   "outputs": [],
   "source": [
    "#Compilation du model\n",
    "model.compile(\n",
    "    loss=\"sparse_categorical_crossentropy\",  #Fonction de perte\n",
    "    optimizer=\"sgd\",                         #Optimisation stochastic gradient descent\n",
    "    metrics=[\"accuracy\"]                     #Accuracy est la metrique que l'on veut utiliser\n",
    ")"
   ]
  },
  {
   "cell_type": "code",
   "execution_count": 213,
   "metadata": {},
   "outputs": [
    {
     "name": "stdout",
     "output_type": "stream",
     "text": [
      "Epoch 1/30\n",
      "313/313 [==============================] - 0s 748us/step - loss: 1.1724 - accuracy: 0.6195\n",
      "Epoch 2/30\n",
      "313/313 [==============================] - 0s 779us/step - loss: 0.5184 - accuracy: 0.8195\n",
      "Epoch 3/30\n",
      "313/313 [==============================] - 0s 809us/step - loss: 0.4356 - accuracy: 0.8458\n",
      "Epoch 4/30\n",
      "313/313 [==============================] - 0s 790us/step - loss: 0.3896 - accuracy: 0.8619\n",
      "Epoch 5/30\n",
      "313/313 [==============================] - 0s 857us/step - loss: 0.3511 - accuracy: 0.8781\n",
      "Epoch 6/30\n",
      "313/313 [==============================] - 0s 766us/step - loss: 0.3265 - accuracy: 0.8883\n",
      "Epoch 7/30\n",
      "313/313 [==============================] - 0s 807us/step - loss: 0.3012 - accuracy: 0.8956\n",
      "Epoch 8/30\n",
      "313/313 [==============================] - 0s 803us/step - loss: 0.2793 - accuracy: 0.9050\n",
      "Epoch 9/30\n",
      "313/313 [==============================] - 0s 786us/step - loss: 0.2662 - accuracy: 0.9032\n",
      "Epoch 10/30\n",
      "313/313 [==============================] - 0s 786us/step - loss: 0.2503 - accuracy: 0.9154\n",
      "Epoch 11/30\n",
      "313/313 [==============================] - 0s 793us/step - loss: 0.2272 - accuracy: 0.9232\n",
      "Epoch 12/30\n",
      "313/313 [==============================] - 0s 849us/step - loss: 0.2213 - accuracy: 0.9293\n",
      "Epoch 13/30\n",
      "313/313 [==============================] - 0s 777us/step - loss: 0.2217 - accuracy: 0.9265\n",
      "Epoch 14/30\n",
      "313/313 [==============================] - 0s 830us/step - loss: 0.2027 - accuracy: 0.9312\n",
      "Epoch 15/30\n",
      "313/313 [==============================] - 0s 810us/step - loss: 0.1949 - accuracy: 0.9363\n",
      "Epoch 16/30\n",
      "313/313 [==============================] - 0s 1ms/step - loss: 0.1838 - accuracy: 0.9395\n",
      "Epoch 17/30\n",
      "313/313 [==============================] - 0s 908us/step - loss: 0.1690 - accuracy: 0.9490\n",
      "Epoch 18/30\n",
      "313/313 [==============================] - 0s 857us/step - loss: 0.1615 - accuracy: 0.9517\n",
      "Epoch 19/30\n",
      "313/313 [==============================] - 0s 831us/step - loss: 0.1463 - accuracy: 0.9562\n",
      "Epoch 20/30\n",
      "313/313 [==============================] - 0s 928us/step - loss: 0.1388 - accuracy: 0.9589\n",
      "Epoch 21/30\n",
      "313/313 [==============================] - 0s 905us/step - loss: 0.1341 - accuracy: 0.9612\n",
      "Epoch 22/30\n",
      "313/313 [==============================] - 0s 892us/step - loss: 0.1312 - accuracy: 0.9627\n",
      "Epoch 23/30\n",
      "313/313 [==============================] - 0s 793us/step - loss: 0.1160 - accuracy: 0.9707\n",
      "Epoch 24/30\n",
      "313/313 [==============================] - 0s 1ms/step - loss: 0.1122 - accuracy: 0.9682\n",
      "Epoch 25/30\n",
      "313/313 [==============================] - 0s 898us/step - loss: 0.1091 - accuracy: 0.9708\n",
      "Epoch 26/30\n",
      "313/313 [==============================] - 0s 885us/step - loss: 0.1053 - accuracy: 0.9742\n",
      "Epoch 27/30\n",
      "313/313 [==============================] - 0s 1ms/step - loss: 0.0982 - accuracy: 0.9758\n",
      "Epoch 28/30\n",
      "313/313 [==============================] - 0s 1ms/step - loss: 0.0851 - accuracy: 0.9783\n",
      "Epoch 29/30\n",
      "313/313 [==============================] - 0s 958us/step - loss: 0.0853 - accuracy: 0.9806\n",
      "Epoch 30/30\n",
      "313/313 [==============================] - 0s 867us/step - loss: 0.0863 - accuracy: 0.9788\n"
     ]
    }
   ],
   "source": [
    "#Entrainement du model\n",
    "history = model.fit(images, targets, epochs=10) #On passe 10 fois sur l'entierete du datasat"
   ]
  },
  {
   "cell_type": "code",
   "execution_count": 214,
   "metadata": {},
   "outputs": [
    {
     "data": {
      "image/png": "[encoded data removed]",
      "text/plain": [
       "<Figure size 432x288 with 1 Axes>"
      ]
     },
     "metadata": {
      "needs_background": "light"
     },
     "output_type": "display_data"
    },
    {
     "data": {
      "image/png": "[encoded data removed]",
      "text/plain": [
       "<Figure size 432x288 with 1 Axes>"
      ]
     },
     "metadata": {
      "needs_background": "light"
     },
     "output_type": "display_data"
    }
   ],
   "source": [
    "#Affichage des resultats finaux\n",
    "loss_curve = history.history[\"loss\"]\n",
    "acc_curve = history.history[\"accuracy\"]\n",
    "plt.plot(loss_curve)\n",
    "plt.title(\"Loss\")\n",
    "plt.show()\n",
    "plt.plot(acc_curve)\n",
    "plt.title(\"Accuracy\")\n",
    "plt.show()"
   ]
  }
 ],
 "metadata": {
  "kernelspec": {
   "display_name": "Python 3",
   "language": "python",
   "name": "python3"
  },
  "language_info": {
   "codemirror_mode": {
    "name": "ipython",
    "version": 3
   },
   "file_extension": ".py",
   "mimetype": "text/x-python",
   "name": "python",
   "nbconvert_exporter": "python",
   "pygments_lexer": "ipython3",
   "version": "3.8.5"
  }
 },
 "nbformat": 4,
 "nbformat_minor": 4
}
