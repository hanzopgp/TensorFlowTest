{
 "cells": [
  {
   "cell_type": "markdown",
   "metadata": {},
   "source": [
    "# --> Importations"
   ]
  },
  {
   "cell_type": "code",
   "execution_count": 91,
   "metadata": {},
   "outputs": [],
   "source": [
    "import tensorflow as tf\n",
    "import numpy as np\n",
    "import pandas as pd\n",
    "import matplotlib.pyplot as plt"
   ]
  },
  {
   "cell_type": "markdown",
   "metadata": {},
   "source": [
    "# --> Importation et normalisation des données en entrée"
   ]
  },
  {
   "cell_type": "code",
   "execution_count": 92,
   "metadata": {},
   "outputs": [
    {
     "name": "stdout",
     "output_type": "stream",
     "text": [
      "Avant normalisation\n",
      "Moyenne valeur pixel:  73.00877385204082\n",
      "Ecart type valeur pixel:  90.2745808471392\n",
      "Apres normalisation\n",
      "Moyenne valeur pixel:  -1.0476880134421886e-18\n",
      "Ecart type valeur pixel:  1.0000000000000007\n",
      "\n",
      "Shape des images :  (10000, 784)\n",
      "Shape de notre liste de classification :  (10000,)\n"
     ]
    }
   ],
   "source": [
    "#Fashion MNIST\n",
    "fashion_mnist = tf.keras.datasets.fashion_mnist                            #Librairie dataset\n",
    "(images, targets), (_, _) = fashion_mnist.load_data() #On ignore les informations avec _\n",
    "images = images[:10000]                                                    #On ne prend pas tout le dataset pour aller plus vite\n",
    "targets = targets[:10000]\n",
    "\n",
    "#Normalisation des valeurs de 0 a 255 => 0 a 1\n",
    "from sklearn.preprocessing import StandardScaler\n",
    "print(\"Avant normalisation\")\n",
    "print(\"Moyenne valeur pixel: \", images.mean())   #On voit que ces deux valeurs sont beaucoup\n",
    "print(\"Ecart type valeur pixel: \", images.std()) #trop eleves, il faut donc normaliser\n",
    "images = images.reshape(-1, 784)                 #On flatten les images en entree 2D => 1D\n",
    "images = images.astype(float)                    #On definit les valeurs comme etant des float\n",
    "scaler = StandardScaler()                        #StandardScaler est une fonction de normalisation qui diminue l'ecart type des valeurs\n",
    "images = scaler.fit_transform(images)\n",
    "print(\"Apres normalisation\")\n",
    "print(\"Moyenne valeur pixel: \", images.mean())   #On voit que ces deux valeurs ont bien\n",
    "print(\"Ecart type valeur pixel: \", images.std()) #change et que la normalisation a eu lieu\n",
    "\n",
    "#Normalisation des valeurs pour images_test\n",
    "images_test = images_test.reshape(-1, 784)\n",
    "images_test = images_test.astype(float)\n",
    "images_test = scaler.fit_transform(images)\n",
    "\n",
    "#Affichage de nos shape\n",
    "print(\"\\nShape des images : \", images.shape)\n",
    "print(\"Shape de notre liste de classification : \", targets.shape)\n",
    "#print(images[0]) #Tableau 2D de niveau de gris (0 a 255)\n",
    "#print(targets[0]) #Numero de la classe"
   ]
  },
  {
   "cell_type": "markdown",
   "metadata": {},
   "source": [
    "# --> Creation du validation set"
   ]
  },
  {
   "cell_type": "code",
   "execution_count": 93,
   "metadata": {},
   "outputs": [
    {
     "name": "stdout",
     "output_type": "stream",
     "text": [
      "Train set images shape :  (8000, 784) , Train set targets shape :  (8000,)\n",
      "Test set images shape :  (2000, 784) , Test set targets shape :  (2000,)\n"
     ]
    }
   ],
   "source": [
    "#Le validation set doit etre different du train set. Le but est de verifier la capacite d'extrapolation \n",
    "#pendant l'entrainement du reseau de neuronne. Le model sera jamais entraine sur ce validation set\n",
    "#Grace a cela, on s'assure que la generalisation fonctionne et que le reseau n'apprend pas par coeur le train set\n",
    "#Ce probleme est appelé l'overfitting. Pour reperer l'overfitting il faut afficher la courbe d'erreur du train set \n",
    "#avec la courbe d'erreur du validation set. Si la courbe du validation set est au dessus de la courbe du train set\n",
    "#alors nous avons un overfitting\n",
    "\n",
    "#Nous avons donc un train set, un validation set, et un test set. Ils sont tous les trois totalement differents.\n",
    "\n",
    "#Il ne faut agir sur les parametres du reseau que en fonction du train set et non du validation set / test set.\n",
    "#C'est pour cela que les donnees de tests ne sont pas donnees en competition kaggle avant d'avoir upload le model.\n",
    "#Il faut vraiment faire attention a ce que les donnees du train set soit assez eloignes des donnees du\n",
    "#validation test et du test set.\n",
    "\n",
    "from sklearn.model_selection import train_test_split\n",
    "images_train, images_test, targets_train, targets_test = train_test_split(images, targets, test_size=0.2, random_state=1) #0.2 signifie 20% pour le test set\n",
    "print(\"Train set images shape : \", images_train.shape, \", Train set targets shape : \", targets_train.shape)\n",
    "print(\"Test set images shape : \", images_test.shape, \", Test set targets shape : \", targets_test.shape)"
   ]
  },
  {
   "cell_type": "markdown",
   "metadata": {},
   "source": [
    "# --> Visualisation d'une des images du dataset"
   ]
  },
  {
   "cell_type": "code",
   "execution_count": 94,
   "metadata": {},
   "outputs": [
    {
     "data": {
      "image/png": "[encoded data removed]",
      "text/plain": [
       "<Figure size 432x288 with 1 Axes>"
      ]
     },
     "metadata": {
      "needs_background": "light"
     },
     "output_type": "display_data"
    }
   ],
   "source": [
    "targets_names = [\"T-shirt/top\", \"Trouser\", \"Pullover\", \"Dress\", \"Coat\", \"Sandal\", \"Shirt\", \"Sneaker\", \"Bad\", \"Ankle boot\"]\n",
    "plt.imshow(np.reshape(images[11], (28, 28)), cmap=\"binary\") #On precise avec \"binary\" que nous somme sur une image en noir et blanc\n",
    "plt.title(targets_names[targets[11]])\n",
    "plt.show()"
   ]
  },
  {
   "cell_type": "code",
   "execution_count": 95,
   "metadata": {},
   "outputs": [],
   "source": [
    "#print(images[10][0]) #Affiche première ligne de l'image 10\n",
    "#print(targets_names[targets[10]]) #Type de cette image"
   ]
  },
  {
   "cell_type": "code",
   "execution_count": 96,
   "metadata": {},
   "outputs": [
    {
     "name": "stdout",
     "output_type": "stream",
     "text": [
      "Taille pixel image :  784\n",
      "\n",
      "Nombre de classificiation :  10\n"
     ]
    }
   ],
   "source": [
    "#On veut creer un reseau de neurone avec 784 input\n",
    "print(\"Taille pixel image : \", images[0].size)\n",
    "#On veut 2 layers dont la premiere a 256 neurones et la deuxieme 128\n",
    "#Notre output layer aura 10 neurones car 10 types de classification\n",
    "print(\"\\nNombre de classificiation : \", len(targets_names))"
   ]
  },
  {
   "cell_type": "code",
   "execution_count": 97,
   "metadata": {},
   "outputs": [],
   "source": [
    "#Comment formater les données en input\n",
    "#model = tf.keras.models.Sequential() #On creer un model sequentiel\n",
    "#model.add(tf.keras.layers.Flatten(input_shape=[28, 28])) #On flatten notre image 28 par 28\n",
    "#print(\"Shape avant flatten : \", images[0:1].shape) #On voit ici qu'elle est en 2D\n",
    "#model_output = model.predict(images[0:1])\n",
    "#print(\"Shape après flatten : \", model_output.shape) #On voit ici qu'elle a bien été flatten"
   ]
  },
  {
   "cell_type": "markdown",
   "metadata": {},
   "source": [
    "# --> Les fonctions d'activation"
   ]
  },
  {
   "cell_type": "code",
   "execution_count": 98,
   "metadata": {},
   "outputs": [
    {
     "data": {
      "image/png": "[encoded data removed]",
      "text/plain": [
       "<Figure size 432x288 with 1 Axes>"
      ]
     },
     "metadata": {
      "needs_background": "light"
     },
     "output_type": "display_data"
    },
    {
     "data": {
      "image/png": "[encoded data removed]",
      "text/plain": [
       "<Figure size 432x288 with 1 Axes>"
      ]
     },
     "metadata": {
      "needs_background": "light"
     },
     "output_type": "display_data"
    },
    {
     "data": {
      "image/png": "[encoded data removed]",
      "text/plain": [
       "<Figure size 432x288 with 1 Axes>"
      ]
     },
     "metadata": {
      "needs_background": "light"
     },
     "output_type": "display_data"
    }
   ],
   "source": [
    "#La valeur de pre-activation (somme ponderee de la couche precedente) peut aller de -inf a +inf.\n",
    "#Il faut que l'on gere cette valeur, en utilisant une fonction d'activation.\n",
    "\n",
    "#Sigmoid\n",
    "#La sortie est plus cohérente car resultat entre 0 et 1.\n",
    "#Si on a plusieurs neurones sur la couche de sortie il ne faut pas\n",
    "#utiliser sigmoid car la distribution de probabilite ne serait\n",
    "#pas egale a 1, il faudrait donc utiliser une autre fonction\n",
    "#d'activation comme softmax. Un des problemes de cette fonction\n",
    "#d'activation est le fait que le gradient diminue trop rapidemment\n",
    "#ce qui fait qu'il disparait... Tanh permet d'aider sur ce point.\n",
    "x = np.linspace(-5, 5, 100)\n",
    "y = 1/(1 + np.exp(-x))\n",
    "plt.figure()\n",
    "plt.xlim(-5,5)\n",
    "plt.ylim(0, 1)\n",
    "plt.plot(x, y)\n",
    "plt.title(\"Sigmoid\")\n",
    "plt.show()\n",
    "\n",
    "#Softmax\n",
    "#Softmax prends pour son operation toutes les valeurs de pre activation\n",
    "#de la couche d'avant et fait en sorte que la somme des activations sur\n",
    "#la couche output soit egale a 1.\n",
    "\n",
    "#Tanh\n",
    "#Tanh permet de mettre une range sur les sorties, par exemple [0,360]\n",
    "#Cela peut etre tres pratique dans certain cas. L'avantage est surtout\n",
    "#present lors de la descente de gradient car on pourrait traduire la sortie\n",
    "#pour arriver dans une certaine range. Le gradient diminue bien plus\n",
    "#lentement que lors de l'utilisation de sigmoid.\n",
    "x = np.linspace(-5, 5, 100)\n",
    "y = (1 - np.exp(-2*x))/(1 + np.exp(-2*x)) #peut etre remplace par np.tanh()\n",
    "plt.figure()\n",
    "plt.xlim(-5,5)\n",
    "plt.ylim(-1, 1)\n",
    "plt.plot(x, y)\n",
    "plt.title(\"Tanh\")\n",
    "plt.show()\n",
    "\n",
    "#ReLU\n",
    "#ReLU mets a 0 les valeurs negatives et copie les valeurs positives\n",
    "#Lorsque les valeurs sont copie elles sont donc \"activees\" par la fonction.\n",
    "#ReLU est utilise sur les hidden layers. En effet, a moins que le probleme\n",
    "#soit lineaire, on utilise ReLU, sigmoid, tanh... \n",
    "x = np.linspace(-2, 2, 100)\n",
    "y = np.maximum(0, x)\n",
    "plt.figure()\n",
    "plt.xlim(-2,2)\n",
    "plt.ylim(0, 1)\n",
    "plt.plot(x, y)\n",
    "plt.title(\"ReLU\")\n",
    "plt.show()"
   ]
  },
  {
   "cell_type": "markdown",
   "metadata": {},
   "source": [
    "# --> Ajout des layers"
   ]
  },
  {
   "cell_type": "code",
   "execution_count": 99,
   "metadata": {},
   "outputs": [],
   "source": [
    "#Notre model sera de type sequentiel\n",
    "model = tf.keras.models.Sequential() #Chaque neurones d'une couche C est connecte a chaque neurones de la couche C-1\n",
    "#Ajout des layers\n",
    "model.add(tf.keras.layers.Dense(256, activation=\"relu\")) #256 neurones, fonction activation ReLU\n",
    "model.add(tf.keras.layers.Dense(128, activation=\"relu\")) #128 neurones, fonction activation ReLU\n",
    "#10 neurones output car 10 types de classification, activation softmax pour distribution normal probabiliste\n",
    "model.add(tf.keras.layers.Dense(10, activation=\"softmax\")) "
   ]
  },
  {
   "cell_type": "code",
   "execution_count": 100,
   "metadata": {},
   "outputs": [
    {
     "name": "stdout",
     "output_type": "stream",
     "text": [
      "WARNING:tensorflow:5 out of the last 9 calls to <function Model.make_predict_function.<locals>.predict_function at 0x00000189550A1A60> triggered tf.function retracing. Tracing is expensive and the excessive number of tracings could be due to (1) creating @tf.function repeatedly in a loop, (2) passing tensors with different shapes, (3) passing Python objects instead of tensors. For (1), please define your @tf.function outside of the loop. For (2), @tf.function has experimental_relax_shapes=True option that relaxes argument shapes that can avoid unnecessary retracing. For (3), please refer to https://www.tensorflow.org/guide/function#controlling_retracing and https://www.tensorflow.org/api_docs/python/tf/function for  more details.\n",
      "Prediction du type de l'image :\n",
      " [[0.07236347 0.14769895 0.05870966 0.0256011  0.15432633 0.05529947\n",
      "  0.20677246 0.02958925 0.06418236 0.18545696]]\n",
      "\n",
      "Type de l'image [3]\n"
     ]
    }
   ],
   "source": [
    "#Tentative de prediction\n",
    "model_output = model.predict(images[3:4])\n",
    "print(\"Prediction du type de l'image :\\n\", model_output) \n",
    "print(\"\\nType de l'image\", targets[3:4])"
   ]
  },
  {
   "cell_type": "code",
   "execution_count": 101,
   "metadata": {},
   "outputs": [
    {
     "name": "stdout",
     "output_type": "stream",
     "text": [
      "Model: \"sequential_4\"\n",
      "_________________________________________________________________\n",
      "Layer (type)                 Output Shape              Param #   \n",
      "=================================================================\n",
      "dense_12 (Dense)             (None, 256)               200960    \n",
      "_________________________________________________________________\n",
      "dense_13 (Dense)             (None, 128)               32896     \n",
      "_________________________________________________________________\n",
      "dense_14 (Dense)             (None, 10)                1290      \n",
      "=================================================================\n",
      "Total params: 235,146\n",
      "Trainable params: 235,146\n",
      "Non-trainable params: 0\n",
      "_________________________________________________________________\n"
     ]
    }
   ],
   "source": [
    "#On peut afficher un resume du model\n",
    "model.summary()"
   ]
  },
  {
   "cell_type": "markdown",
   "metadata": {},
   "source": [
    "# --> Qu'est ce que la categorical crossentropy ?"
   ]
  },
  {
   "cell_type": "code",
   "execution_count": 102,
   "metadata": {},
   "outputs": [
    {
     "name": "stdout",
     "output_type": "stream",
     "text": [
      "Images shape :  (5, 784)\n",
      "Targets shape :  (5,)\n",
      "Output shape :  (5, 10)\n",
      "Output :\n",
      " [[0.1564887  0.21724126 0.01231835 0.06292138 0.08205648 0.02292853\n",
      "  0.17912574 0.13048045 0.10074429 0.03569479]\n",
      " [0.03548529 0.22976886 0.11736817 0.07927627 0.06950181 0.03632037\n",
      "  0.19695157 0.1459225  0.03361435 0.05579092]\n",
      " [0.07982599 0.17165689 0.0701933  0.06955079 0.11166875 0.04309332\n",
      "  0.15978396 0.03945624 0.08174711 0.17302369]\n",
      " [0.07236347 0.14769894 0.05870965 0.02560111 0.15432627 0.05529949\n",
      "  0.20677248 0.02958925 0.06418236 0.18545695]\n",
      " [0.19440517 0.13832927 0.04163228 0.04607578 0.14019893 0.10753683\n",
      "  0.11430375 0.16039734 0.0146776  0.04244309]]\n",
      "Output apres le filtre :  [0.03569479 0.03548529 0.07982599 0.02560111 0.19440517]\n",
      "Output apres filtre et log :  [-3.3327506 -3.3386369 -2.5279062 -3.6651194 -1.6378108]\n",
      "Moyenne de cet output :  2.9004447\n"
     ]
    }
   ],
   "source": [
    "images_test = images[:5]                     #On ne prends que les 5 premieres images pour notre test\n",
    "labels_test = targets[:5]\n",
    "print(\"Images shape : \", images_test.shape)  #Affichage de la shape de nos images et targets\n",
    "print(\"Targets shape : \", labels_test.shape)\n",
    "outputs_test = model.predict(images_test)    #Tentative de prediction du model non entrainé pour les 5 premieres images\n",
    "print(\"Output shape : \", outputs_test.shape) #Affichage de la shape de ce resultat\n",
    "print(\"Output :\\n\", outputs_test)             #et du resultat\n",
    "\n",
    "#Ici la shape de l'output est (5,10) donc nous avons pour chacune des 5 images\n",
    "#10 valeurs qui sont les probabilites que l'image soit classifiee pour chacun des labels\n",
    "#La categorical crossentropy filtre ces 10 valeurs pour ne garder que celle qui correspond\n",
    "#a la \"bonne reponse\", celle qui devrait etre proche de 1 si le reseau est bien entraine\n",
    "#Cette fonction de perte s'occupe donc seulement de cette valeur et cela ne pose pas de\n",
    "#probleme car le softmax va creer une distribution de proportionalite sur la sortie.\n",
    "#En effet, si on on modifie cette valeur en l'augmentant, cela faire diminuer les autres\n",
    "#de par le softmax\n",
    "filtered_outputs_test = outputs_test[np.arange(5), labels_test]\n",
    "print(\"Output apres le filtre : \", filtered_outputs_test)\n",
    "\n",
    "#Nous avons maintenant les probabilites qui devrait etre augmente pour chacune des images\n",
    "#On applique alors np.log() \n",
    "#En effet des donnees mit au logarithme permet une meilleur convergence\n",
    "#On sait qu'on utilise la descente de gradient pour pouvoir minimiser une erreur\n",
    "#Quand on arrive a minimiser une erreur, on dit qu'on converge vers une solution\n",
    "#Si on utilise le logarithme cela sera plus pratique pour effectuer la descente de gradient\n",
    "#Le logarithme de change pas l'ordre croissant des valeurs car c'est une fonction\n",
    "#qui est monotone croissante\n",
    "log_filtered_outputs_test = np.log(filtered_outputs_test)\n",
    "print(\"Output apres filtre et log : \", log_filtered_outputs_test)\n",
    "\n",
    "#On veut minimiser une valeur qui est la moyenne de notre output\n",
    "#On veut que cette valeur soit positive, on ajoute donc un \"-\" devant\n",
    "print(\"Moyenne de cet output : \", - log_filtered_outputs_test.mean())\n",
    "\n",
    "#Lors de la specification de la fonction de loss avec compile() on utilise \"sparse_categorical_crossentropy\"\n",
    "#Le \"sparse_\" ici specifie que l'on peut utilise nos label comme etant [0, 1, 2, ..., 9]\n",
    "#au lieu d'utiliser une representation \"one hot encoding\", qui pour nous donner la prediction \"9\"\n",
    "#nous donnerait un vecteur one hot [0, 0, 0, 0, 0, 0, 0, 0, 0, 1]\n",
    "\n",
    "#On choisit donc sparse_ si on a des labels specifique en entree\n",
    "#on choisit categorical_crossentropy si nous avons un softmax sur l'output et plusieurs categories"
   ]
  },
  {
   "cell_type": "markdown",
   "metadata": {},
   "source": [
    "# --> Ajout de la fonction loss, optimizer, metrics"
   ]
  },
  {
   "cell_type": "code",
   "execution_count": 103,
   "metadata": {},
   "outputs": [],
   "source": [
    "#Compilation du model\n",
    "model.compile(\n",
    "    loss=\"sparse_categorical_crossentropy\",  #Fonction de perte\n",
    "    optimizer=\"sgd\",                         #Optimisation stochastic gradient descent\n",
    "    metrics=[\"accuracy\"]                     #Accuracy est la metrique que l'on veut utiliser\n",
    ")"
   ]
  },
  {
   "cell_type": "markdown",
   "metadata": {},
   "source": [
    "# --> Entrainement du model"
   ]
  },
  {
   "cell_type": "code",
   "execution_count": 104,
   "metadata": {},
   "outputs": [
    {
     "name": "stdout",
     "output_type": "stream",
     "text": [
      "Epoch 1/50\n",
      "200/200 [==============================] - 1s 2ms/step - loss: 1.3007 - accuracy: 0.5687 - val_loss: 0.6661 - val_accuracy: 0.7731\n",
      "Epoch 2/50\n",
      "200/200 [==============================] - 0s 940us/step - loss: 0.5610 - accuracy: 0.8097 - val_loss: 0.5580 - val_accuracy: 0.7981\n",
      "Epoch 3/50\n",
      "200/200 [==============================] - 0s 1ms/step - loss: 0.4588 - accuracy: 0.8464 - val_loss: 0.5045 - val_accuracy: 0.8138\n",
      "Epoch 4/50\n",
      "200/200 [==============================] - 0s 972us/step - loss: 0.4203 - accuracy: 0.8564 - val_loss: 0.4947 - val_accuracy: 0.8219\n",
      "Epoch 5/50\n",
      "200/200 [==============================] - 0s 974us/step - loss: 0.3826 - accuracy: 0.8670 - val_loss: 0.4699 - val_accuracy: 0.8300\n",
      "Epoch 6/50\n",
      "200/200 [==============================] - 0s 1ms/step - loss: 0.3246 - accuracy: 0.8909 - val_loss: 0.4517 - val_accuracy: 0.8375\n",
      "Epoch 7/50\n",
      "200/200 [==============================] - 0s 1ms/step - loss: 0.3192 - accuracy: 0.8843 - val_loss: 0.4552 - val_accuracy: 0.8369\n",
      "Epoch 8/50\n",
      "200/200 [==============================] - 0s 1ms/step - loss: 0.2985 - accuracy: 0.9007 - val_loss: 0.4434 - val_accuracy: 0.8419\n",
      "Epoch 9/50\n",
      "200/200 [==============================] - 0s 932us/step - loss: 0.2880 - accuracy: 0.9023 - val_loss: 0.4409 - val_accuracy: 0.8419\n",
      "Epoch 10/50\n",
      "200/200 [==============================] - 0s 1ms/step - loss: 0.2708 - accuracy: 0.9145 - val_loss: 0.4388 - val_accuracy: 0.8388\n",
      "Epoch 11/50\n",
      "200/200 [==============================] - 0s 2ms/step - loss: 0.2361 - accuracy: 0.9216 - val_loss: 0.4343 - val_accuracy: 0.8444\n",
      "Epoch 12/50\n",
      "200/200 [==============================] - 0s 1ms/step - loss: 0.2416 - accuracy: 0.9251 - val_loss: 0.4352 - val_accuracy: 0.8406\n",
      "Epoch 13/50\n",
      "200/200 [==============================] - 0s 987us/step - loss: 0.2310 - accuracy: 0.9275 - val_loss: 0.4304 - val_accuracy: 0.8462\n",
      "Epoch 14/50\n",
      "200/200 [==============================] - 0s 976us/step - loss: 0.2112 - accuracy: 0.9318 - val_loss: 0.4235 - val_accuracy: 0.8469\n",
      "Epoch 15/50\n",
      "200/200 [==============================] - 0s 1ms/step - loss: 0.1982 - accuracy: 0.9406 - val_loss: 0.4317 - val_accuracy: 0.8481\n",
      "Epoch 16/50\n",
      "200/200 [==============================] - 0s 1ms/step - loss: 0.1913 - accuracy: 0.9439 - val_loss: 0.4251 - val_accuracy: 0.8512\n",
      "Epoch 17/50\n",
      "200/200 [==============================] - 0s 960us/step - loss: 0.1761 - accuracy: 0.9452 - val_loss: 0.4189 - val_accuracy: 0.8481\n",
      "Epoch 18/50\n",
      "200/200 [==============================] - 0s 960us/step - loss: 0.1682 - accuracy: 0.9532 - val_loss: 0.4313 - val_accuracy: 0.8444\n",
      "Epoch 19/50\n",
      "200/200 [==============================] - 0s 947us/step - loss: 0.1561 - accuracy: 0.9562 - val_loss: 0.4317 - val_accuracy: 0.8456\n",
      "Epoch 20/50\n",
      "200/200 [==============================] - 0s 1ms/step - loss: 0.1470 - accuracy: 0.9594 - val_loss: 0.4351 - val_accuracy: 0.8475\n",
      "Epoch 21/50\n",
      "200/200 [==============================] - 0s 957us/step - loss: 0.1477 - accuracy: 0.9581 - val_loss: 0.4322 - val_accuracy: 0.8481\n",
      "Epoch 22/50\n",
      "200/200 [==============================] - 0s 1ms/step - loss: 0.1277 - accuracy: 0.9655 - val_loss: 0.4304 - val_accuracy: 0.8475\n",
      "Epoch 23/50\n",
      "200/200 [==============================] - 0s 1ms/step - loss: 0.1227 - accuracy: 0.9665 - val_loss: 0.4365 - val_accuracy: 0.8506\n",
      "Epoch 24/50\n",
      "200/200 [==============================] - 0s 1ms/step - loss: 0.1217 - accuracy: 0.9682 - val_loss: 0.4362 - val_accuracy: 0.8469\n",
      "Epoch 25/50\n",
      "200/200 [==============================] - 0s 967us/step - loss: 0.1048 - accuracy: 0.9758 - val_loss: 0.4409 - val_accuracy: 0.8519\n",
      "Epoch 26/50\n",
      "200/200 [==============================] - 0s 962us/step - loss: 0.1052 - accuracy: 0.9745 - val_loss: 0.4495 - val_accuracy: 0.8506\n",
      "Epoch 27/50\n",
      "200/200 [==============================] - 0s 977us/step - loss: 0.0982 - accuracy: 0.9762 - val_loss: 0.4462 - val_accuracy: 0.8512\n",
      "Epoch 28/50\n",
      "200/200 [==============================] - 0s 1ms/step - loss: 0.0928 - accuracy: 0.9793 - val_loss: 0.4475 - val_accuracy: 0.8456\n",
      "Epoch 29/50\n",
      "200/200 [==============================] - 0s 1ms/step - loss: 0.0900 - accuracy: 0.9826 - val_loss: 0.4486 - val_accuracy: 0.8519\n",
      "Epoch 30/50\n",
      "200/200 [==============================] - 0s 1ms/step - loss: 0.0850 - accuracy: 0.9856 - val_loss: 0.4526 - val_accuracy: 0.8481\n",
      "Epoch 31/50\n",
      "200/200 [==============================] - 0s 1ms/step - loss: 0.0797 - accuracy: 0.9843 - val_loss: 0.4554 - val_accuracy: 0.8512\n",
      "Epoch 32/50\n",
      "200/200 [==============================] - 0s 940us/step - loss: 0.0740 - accuracy: 0.9864 - val_loss: 0.4623 - val_accuracy: 0.8525\n",
      "Epoch 33/50\n",
      "200/200 [==============================] - 0s 1ms/step - loss: 0.0683 - accuracy: 0.9884 - val_loss: 0.4665 - val_accuracy: 0.8531\n",
      "Epoch 34/50\n",
      "200/200 [==============================] - 0s 2ms/step - loss: 0.0649 - accuracy: 0.9892 - val_loss: 0.4625 - val_accuracy: 0.8550\n",
      "Epoch 35/50\n",
      "200/200 [==============================] - 0s 1ms/step - loss: 0.0631 - accuracy: 0.9891 - val_loss: 0.4639 - val_accuracy: 0.8525\n",
      "Epoch 36/50\n",
      "200/200 [==============================] - 0s 2ms/step - loss: 0.0567 - accuracy: 0.9924 - val_loss: 0.4675 - val_accuracy: 0.8506\n",
      "Epoch 37/50\n",
      "200/200 [==============================] - 0s 1ms/step - loss: 0.0544 - accuracy: 0.9920 - val_loss: 0.4726 - val_accuracy: 0.8556\n",
      "Epoch 38/50\n",
      "200/200 [==============================] - 0s 1ms/step - loss: 0.0511 - accuracy: 0.9935 - val_loss: 0.4786 - val_accuracy: 0.8469\n",
      "Epoch 39/50\n",
      "200/200 [==============================] - 0s 1ms/step - loss: 0.0454 - accuracy: 0.9955 - val_loss: 0.4880 - val_accuracy: 0.8487\n",
      "Epoch 40/50\n",
      "200/200 [==============================] - 0s 1ms/step - loss: 0.0425 - accuracy: 0.9957 - val_loss: 0.4816 - val_accuracy: 0.8556\n",
      "Epoch 41/50\n",
      "200/200 [==============================] - 0s 1ms/step - loss: 0.0431 - accuracy: 0.9975 - val_loss: 0.4960 - val_accuracy: 0.8531\n",
      "Epoch 42/50\n",
      "200/200 [==============================] - 0s 1ms/step - loss: 0.0429 - accuracy: 0.9963 - val_loss: 0.4922 - val_accuracy: 0.8537\n",
      "Epoch 43/50\n",
      "200/200 [==============================] - 0s 1ms/step - loss: 0.0362 - accuracy: 0.9976 - val_loss: 0.4940 - val_accuracy: 0.8500\n",
      "Epoch 44/50\n",
      "200/200 [==============================] - 0s 1ms/step - loss: 0.0365 - accuracy: 0.9983 - val_loss: 0.5026 - val_accuracy: 0.8494\n",
      "Epoch 45/50\n",
      "200/200 [==============================] - 0s 1ms/step - loss: 0.0336 - accuracy: 0.9988 - val_loss: 0.5029 - val_accuracy: 0.8537\n",
      "Epoch 46/50\n",
      "200/200 [==============================] - 0s 1ms/step - loss: 0.0329 - accuracy: 0.9986 - val_loss: 0.5052 - val_accuracy: 0.8537\n",
      "Epoch 47/50\n",
      "200/200 [==============================] - 0s 1ms/step - loss: 0.0319 - accuracy: 0.9995 - val_loss: 0.5102 - val_accuracy: 0.8544\n",
      "Epoch 48/50\n",
      "200/200 [==============================] - 0s 2ms/step - loss: 0.0302 - accuracy: 0.9985 - val_loss: 0.5128 - val_accuracy: 0.8556\n",
      "Epoch 49/50\n",
      "200/200 [==============================] - 0s 951us/step - loss: 0.0287 - accuracy: 0.9996 - val_loss: 0.5185 - val_accuracy: 0.8531\n",
      "Epoch 50/50\n",
      "200/200 [==============================] - 0s 965us/step - loss: 0.0273 - accuracy: 0.9990 - val_loss: 0.5181 - val_accuracy: 0.8525\n"
     ]
    }
   ],
   "source": [
    "#Entrainement du model\n",
    "#On passe 10 fois sur l'entierete du datasat\n",
    "#On prends 20% pour le validation set\n",
    "history = model.fit(images_train, targets_train, epochs=50, validation_split=0.2) "
   ]
  },
  {
   "cell_type": "markdown",
   "metadata": {},
   "source": [
    "# --> Affichage des courbes après entrainement"
   ]
  },
  {
   "cell_type": "code",
   "execution_count": 105,
   "metadata": {},
   "outputs": [
    {
     "data": {
      "image/png": "[encoded data removed]",
      "text/plain": [
       "<Figure size 432x288 with 1 Axes>"
      ]
     },
     "metadata": {
      "needs_background": "light"
     },
     "output_type": "display_data"
    },
    {
     "data": {
      "image/png": "[encoded data removed]",
      "text/plain": [
       "<Figure size 432x288 with 1 Axes>"
      ]
     },
     "metadata": {
      "needs_background": "light"
     },
     "output_type": "display_data"
    }
   ],
   "source": [
    "#Affichage des resultats finaux\n",
    "\n",
    "#Train set data\n",
    "loss_curve = history.history[\"loss\"]\n",
    "acc_curve = history.history[\"accuracy\"]\n",
    "#Validation set data\n",
    "val_loss_curve = history.history[\"val_loss\"]\n",
    "val_acc_curve = history.history[\"val_accuracy\"]\n",
    "\n",
    "plt.plot(loss_curve, label=\"Train set\")\n",
    "plt.plot(val_loss_curve, label=\"Validation set\")\n",
    "plt.legend(loc='upper left')\n",
    "plt.title(\"Loss\")\n",
    "plt.show()\n",
    "\n",
    "plt.plot(acc_curve, label=\"Train set\")\n",
    "plt.plot(val_acc_curve, label=\"Validation set\")\n",
    "plt.legend(loc='upper left')\n",
    "plt.title(\"Accuracy\")\n",
    "plt.show()"
   ]
  },
  {
   "cell_type": "code",
   "execution_count": null,
   "metadata": {},
   "outputs": [],
   "source": []
  },
  {
   "cell_type": "code",
   "execution_count": null,
   "metadata": {},
   "outputs": [],
   "source": []
  }
 ],
 "metadata": {
  "kernelspec": {
   "display_name": "Python 3",
   "language": "python",
   "name": "python3"
  },
  "language_info": {
   "codemirror_mode": {
    "name": "ipython",
    "version": 3
   },
   "file_extension": ".py",
   "mimetype": "text/x-python",
   "name": "python",
   "nbconvert_exporter": "python",
   "pygments_lexer": "ipython3",
   "version": "3.8.5"
  }
 },
 "nbformat": 4,
 "nbformat_minor": 4
}
