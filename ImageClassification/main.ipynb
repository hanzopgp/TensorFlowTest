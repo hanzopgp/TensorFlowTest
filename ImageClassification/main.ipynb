{
 "cells": [
  {
   "cell_type": "markdown",
   "metadata": {},
   "source": [
    "# --> Importations"
   ]
  },
  {
   "cell_type": "code",
   "execution_count": 49,
   "metadata": {},
   "outputs": [],
   "source": [
    "import tensorflow as tf\n",
    "import numpy as np\n",
    "import pandas as pd\n",
    "import matplotlib.pyplot as plt"
   ]
  },
  {
   "cell_type": "markdown",
   "metadata": {},
   "source": [
    "# --> Importation et normalisation des données en entrée"
   ]
  },
  {
   "cell_type": "code",
   "execution_count": 50,
   "metadata": {},
   "outputs": [
    {
     "name": "stdout",
     "output_type": "stream",
     "text": [
      "Avant normalisation\n",
      "Moyenne valeur pixel:  73.00877385204082\n",
      "Ecart type valeur pixel:  90.2745808471392\n",
      "Apres normalisation\n",
      "Moyenne valeur pixel:  -1.0476880134421886e-18\n",
      "Ecart type valeur pixel:  1.0000000000000007\n",
      "\n",
      "Shape des images :  (10000, 784)\n",
      "Shape de notre liste de classification :  (10000,)\n"
     ]
    }
   ],
   "source": [
    "#Fashion MNIST\n",
    "fashion_mnist = tf.keras.datasets.fashion_mnist                            #Librairie dataset\n",
    "(images, targets), (_, _) = fashion_mnist.load_data() #On ignore les informations avec _\n",
    "images = images[:10000]                                                    #On ne prend pas tout le dataset pour aller plus vite\n",
    "targets = targets[:10000]\n",
    "\n",
    "#Normalisation des valeurs de 0 a 255 => 0 a 1\n",
    "from sklearn.preprocessing import StandardScaler\n",
    "print(\"Avant normalisation\")\n",
    "print(\"Moyenne valeur pixel: \", images.mean())   #On voit que ces deux valeurs sont beaucoup\n",
    "print(\"Ecart type valeur pixel: \", images.std()) #trop eleves, il faut donc normaliser\n",
    "images = images.reshape(-1, 784)                 #On flatten les images en entree 2D => 1D\n",
    "images = images.astype(float)                    #On definit les valeurs comme etant des float\n",
    "scaler = StandardScaler()                        #StandardScaler est une fonction de normalisation qui diminue l'ecart type des valeurs\n",
    "images = scaler.fit_transform(images)\n",
    "print(\"Apres normalisation\")\n",
    "print(\"Moyenne valeur pixel: \", images.mean())   #On voit que ces deux valeurs ont bien\n",
    "print(\"Ecart type valeur pixel: \", images.std()) #change et que la normalisation a eu lieu\n",
    "\n",
    "#Normalisation des valeurs pour images_test\n",
    "images_test = images_test.reshape(-1, 784)\n",
    "images_test = images_test.astype(float)\n",
    "images_test = scaler.fit_transform(images)\n",
    "\n",
    "#Affichage de nos shape\n",
    "print(\"\\nShape des images : \", images.shape)\n",
    "print(\"Shape de notre liste de classification : \", targets.shape)\n",
    "#print(images[0]) #Tableau 2D de niveau de gris (0 a 255)\n",
    "#print(targets[0]) #Numero de la classe"
   ]
  },
  {
   "cell_type": "markdown",
   "metadata": {},
   "source": [
    "# --> Creation du validation set"
   ]
  },
  {
   "cell_type": "code",
   "execution_count": 51,
   "metadata": {},
   "outputs": [
    {
     "name": "stdout",
     "output_type": "stream",
     "text": [
      "Train set images shape :  (8000, 784) , Train set targets shape :  (8000,)\n",
      "Test set images shape :  (2000, 784) , Test set targets shape :  (2000,)\n"
     ]
    }
   ],
   "source": [
    "#Le validation set doit etre different du train set. Le but est de verifier la capacite d'extrapolation \n",
    "#pendant l'entrainement du reseau de neuronne. Le model sera jamais entraine sur ce validation set\n",
    "#Grace a cela, on s'assure que la generalisation fonctionne et que le reseau n'apprend pas par coeur le train set\n",
    "#Ce probleme est appelé l'overfitting. Pour reperer l'overfitting il faut afficher la courbe d'erreur du train set \n",
    "#avec la courbe d'erreur du validation set. Si la courbe du validation set est au dessus de la courbe du train set\n",
    "#alors nous avons un overfitting\n",
    "\n",
    "#Nous avons donc un train set, un validation set, et un test set. Ils sont tous les trois totalement differents.\n",
    "\n",
    "#Il ne faut agir sur les parametres du reseau que en fonction du train set et non du validation set / test set.\n",
    "#C'est pour cela que les donnees de tests ne sont pas donnees en competition kaggle avant d'avoir upload le model.\n",
    "#Il faut vraiment faire attention a ce que les donnees du train set soit assez eloignes des donnees du\n",
    "#validation test et du test set.\n",
    "\n",
    "from sklearn.model_selection import train_test_split\n",
    "images_train, images_test, targets_train, targets_test = train_test_split(images, targets, test_size=0.2, random_state=1) #0.2 signifie 20% pour le test set\n",
    "print(\"Train set images shape : \", images_train.shape, \", Train set targets shape : \", targets_train.shape)\n",
    "print(\"Test set images shape : \", images_test.shape, \", Test set targets shape : \", targets_test.shape)"
   ]
  },
  {
   "cell_type": "markdown",
   "metadata": {},
   "source": [
    "# --> Visualisation d'une des images du dataset"
   ]
  },
  {
   "cell_type": "code",
   "execution_count": 52,
   "metadata": {},
   "outputs": [
    {
     "data": {
      "image/png": "[encoded data removed]",
      "text/plain": [
       "<Figure size 432x288 with 1 Axes>"
      ]
     },
     "metadata": {
      "needs_background": "light"
     },
     "output_type": "display_data"
    }
   ],
   "source": [
    "targets_names = [\"T-shirt/top\", \"Trouser\", \"Pullover\", \"Dress\", \"Coat\", \"Sandal\", \"Shirt\", \"Sneaker\", \"Bad\", \"Ankle boot\"]\n",
    "plt.imshow(np.reshape(images[11], (28, 28)), cmap=\"binary\") #On precise avec \"binary\" que nous somme sur une image en noir et blanc\n",
    "plt.title(targets_names[targets[11]])\n",
    "plt.show()"
   ]
  },
  {
   "cell_type": "code",
   "execution_count": 53,
   "metadata": {},
   "outputs": [],
   "source": [
    "#print(images[10][0]) #Affiche première ligne de l'image 10\n",
    "#print(targets_names[targets[10]]) #Type de cette image"
   ]
  },
  {
   "cell_type": "code",
   "execution_count": 54,
   "metadata": {},
   "outputs": [
    {
     "name": "stdout",
     "output_type": "stream",
     "text": [
      "Taille pixel image :  784\n",
      "\n",
      "Nombre de classificiation :  10\n"
     ]
    }
   ],
   "source": [
    "#On veut creer un reseau de neurone avec 784 input\n",
    "print(\"Taille pixel image : \", images[0].size)\n",
    "#On veut 2 layers dont la premiere a 256 neurones et la deuxieme 128\n",
    "#Notre output layer aura 10 neurones car 10 types de classification\n",
    "print(\"\\nNombre de classificiation : \", len(targets_names))"
   ]
  },
  {
   "cell_type": "code",
   "execution_count": 55,
   "metadata": {},
   "outputs": [],
   "source": [
    "#Comment formater les données en input\n",
    "#model = tf.keras.models.Sequential() #On creer un model sequentiel\n",
    "#model.add(tf.keras.layers.Flatten(input_shape=[28, 28])) #On flatten notre image 28 par 28\n",
    "#print(\"Shape avant flatten : \", images[0:1].shape) #On voit ici qu'elle est en 2D\n",
    "#model_output = model.predict(images[0:1])\n",
    "#print(\"Shape après flatten : \", model_output.shape) #On voit ici qu'elle a bien été flatten"
   ]
  },
  {
   "cell_type": "markdown",
   "metadata": {},
   "source": [
    "# --> Ajout des layers"
   ]
  },
  {
   "cell_type": "code",
   "execution_count": 56,
   "metadata": {},
   "outputs": [],
   "source": [
    "#Notre model sera de type sequentiel\n",
    "model = tf.keras.models.Sequential() #Chaque neurones d'une couche C est connecte a chaque neurones de la couche C-1\n",
    "#Ajout des layers\n",
    "model.add(tf.keras.layers.Dense(256, activation=\"relu\")) #256 neurones, fonction activation ReLU\n",
    "model.add(tf.keras.layers.Dense(128, activation=\"relu\")) #128 neurones, fonction activation ReLU\n",
    "#10 neurones output car 10 types de classification, activation softmax pour distribution normal probabiliste\n",
    "model.add(tf.keras.layers.Dense(10, activation=\"softmax\")) "
   ]
  },
  {
   "cell_type": "code",
   "execution_count": 57,
   "metadata": {},
   "outputs": [
    {
     "name": "stdout",
     "output_type": "stream",
     "text": [
      "Prediction du type de l'image :\n",
      " [[0.11443271 0.0416492  0.06186051 0.0926641  0.10549659 0.10414217\n",
      "  0.14820059 0.09601758 0.13331965 0.10221694]]\n",
      "\n",
      "Type de l'image [3]\n"
     ]
    }
   ],
   "source": [
    "#Tentative de prediction\n",
    "model_output = model.predict(images[3:4])\n",
    "print(\"Prediction du type de l'image :\\n\", model_output) \n",
    "print(\"\\nType de l'image\", targets[3:4])"
   ]
  },
  {
   "cell_type": "code",
   "execution_count": 58,
   "metadata": {},
   "outputs": [
    {
     "name": "stdout",
     "output_type": "stream",
     "text": [
      "Model: \"sequential_3\"\n",
      "_________________________________________________________________\n",
      "Layer (type)                 Output Shape              Param #   \n",
      "=================================================================\n",
      "dense_9 (Dense)              (None, 256)               200960    \n",
      "_________________________________________________________________\n",
      "dense_10 (Dense)             (None, 128)               32896     \n",
      "_________________________________________________________________\n",
      "dense_11 (Dense)             (None, 10)                1290      \n",
      "=================================================================\n",
      "Total params: 235,146\n",
      "Trainable params: 235,146\n",
      "Non-trainable params: 0\n",
      "_________________________________________________________________\n"
     ]
    }
   ],
   "source": [
    "#On peut afficher un resume du model\n",
    "model.summary()"
   ]
  },
  {
   "cell_type": "markdown",
   "metadata": {},
   "source": [
    "# --> Qu'est ce que la categorical crossentropy ?"
   ]
  },
  {
   "cell_type": "code",
   "execution_count": 59,
   "metadata": {},
   "outputs": [
    {
     "name": "stdout",
     "output_type": "stream",
     "text": [
      "Images shape :  (5, 784)\n",
      "Targets shape :  (5,)\n",
      "Output shape :  (5, 10)\n",
      "Output :\n",
      " [[0.01020476 0.03128908 0.02860956 0.11458374 0.09838049 0.06611865\n",
      "  0.44810006 0.10473747 0.08253779 0.01543832]\n",
      " [0.07235305 0.02160493 0.01878843 0.04022615 0.09369024 0.05358591\n",
      "  0.4876414  0.00236151 0.19177173 0.01797667]\n",
      " [0.05030513 0.08055469 0.06288798 0.11674237 0.10452901 0.09426714\n",
      "  0.24284644 0.08174963 0.09982629 0.06629126]\n",
      " [0.11443268 0.04164922 0.06186054 0.09266409 0.10549658 0.10414215\n",
      "  0.14820057 0.09601758 0.13331965 0.10221696]\n",
      " [0.04626221 0.0878028  0.03369135 0.07826749 0.17848766 0.0792309\n",
      "  0.15840678 0.03750496 0.11409558 0.18625027]]\n",
      "Output apres le filtre :  [0.01543832 0.07235305 0.05030513 0.09266409 0.04626221]\n",
      "Output apres filtre et log :  [-4.1709027 -2.6261976 -2.989648  -2.3787742 -3.0734298]\n",
      "Moyenne de cet output :  3.0477903\n"
     ]
    }
   ],
   "source": [
    "images_test = images[:5]                     #On ne prends que les 5 premieres images pour notre test\n",
    "labels_test = targets[:5]\n",
    "print(\"Images shape : \", images_test.shape)  #Affichage de la shape de nos images et targets\n",
    "print(\"Targets shape : \", labels_test.shape)\n",
    "outputs_test = model.predict(images_test)    #Tentative de prediction du model non entrainé pour les 5 premieres images\n",
    "print(\"Output shape : \", outputs_test.shape) #Affichage de la shape de ce resultat\n",
    "print(\"Output :\\n\", outputs_test)             #et du resultat\n",
    "\n",
    "#Ici la shape de l'output est (5,10) donc nous avons pour chacune des 5 images\n",
    "#10 valeurs qui sont les probabilites que l'image soit classifiee pour chacun des labels\n",
    "#La categorical crossentropy filtre ces 10 valeurs pour ne garder que celle qui correspond\n",
    "#a la \"bonne reponse\", celle qui devrait etre proche de 1 si le reseau est bien entraine\n",
    "#Cette fonction de perte s'occupe donc seulement de cette valeur et cela ne pose pas de\n",
    "#probleme car le softmax va creer une distribution de proportionalite sur la sortie.\n",
    "#En effet, si on on modifie cette valeur en l'augmentant, cela faire diminuer les autres\n",
    "#de par le softmax\n",
    "filtered_outputs_test = outputs_test[np.arange(5), labels_test]\n",
    "print(\"Output apres le filtre : \", filtered_outputs_test)\n",
    "\n",
    "#Nous avons maintenant les probabilites qui devrait etre augmente pour chacune des images\n",
    "#On applique alors np.log() \n",
    "#En effet des donnees mit au logarithme permet une meilleur convergence\n",
    "#On sait qu'on utilise la descente de gradient pour pouvoir minimiser une erreur\n",
    "#Quand on arrive a minimiser une erreur, on dit qu'on converge vers une solution\n",
    "#Si on utilise le logarithme cela sera plus pratique pour effectuer la descente de gradient\n",
    "#Le logarithme de change pas l'ordre croissant des valeurs car c'est une fonction\n",
    "#qui est monotone croissante\n",
    "log_filtered_outputs_test = np.log(filtered_outputs_test)\n",
    "print(\"Output apres filtre et log : \", log_filtered_outputs_test)\n",
    "\n",
    "#On veut minimiser une valeur qui est la moyenne de notre output\n",
    "#On veut que cette valeur soit positive, on ajoute donc un \"-\" devant\n",
    "print(\"Moyenne de cet output : \", - log_filtered_outputs_test.mean())\n",
    "\n",
    "#Lors de la specification de la fonction de loss avec compile() on utilise \"sparse_categorical_crossentropy\"\n",
    "#Le \"sparse_\" ici specifie que l'on peut utilise nos label comme etant [0, 1, 2, ..., 9]\n",
    "#au lieu d'utiliser une representation \"one hot encoding\", qui pour nous donner la prediction \"9\"\n",
    "#nous donnerait un vecteur one hot [0, 0, 0, 0, 0, 0, 0, 0, 0, 1]\n",
    "\n",
    "#On choisit donc sparse_ si on a des labels specifique en entree\n",
    "#on choisit categorical_crossentropy si nous avons un softmax sur l'output et plusieurs categories"
   ]
  },
  {
   "cell_type": "markdown",
   "metadata": {},
   "source": [
    "# --> Ajout de la fonction loss, optimizer, metrics"
   ]
  },
  {
   "cell_type": "code",
   "execution_count": 60,
   "metadata": {},
   "outputs": [],
   "source": [
    "#Compilation du model\n",
    "model.compile(\n",
    "    loss=\"sparse_categorical_crossentropy\",  #Fonction de perte\n",
    "    optimizer=\"sgd\",                         #Optimisation stochastic gradient descent\n",
    "    metrics=[\"accuracy\"]                     #Accuracy est la metrique que l'on veut utiliser\n",
    ")"
   ]
  },
  {
   "cell_type": "markdown",
   "metadata": {},
   "source": [
    "# --> Entrainement du model"
   ]
  },
  {
   "cell_type": "code",
   "execution_count": 61,
   "metadata": {},
   "outputs": [
    {
     "name": "stdout",
     "output_type": "stream",
     "text": [
      "Epoch 1/50\n",
      "200/200 [==============================] - 1s 1ms/step - loss: 1.2364 - accuracy: 0.5817 - val_loss: 0.6250 - val_accuracy: 0.7819\n",
      "Epoch 2/50\n",
      "200/200 [==============================] - 0s 937us/step - loss: 0.5656 - accuracy: 0.8015 - val_loss: 0.5426 - val_accuracy: 0.7969\n",
      "Epoch 3/50\n",
      "200/200 [==============================] - 0s 977us/step - loss: 0.4733 - accuracy: 0.8370 - val_loss: 0.5047 - val_accuracy: 0.8106\n",
      "Epoch 4/50\n",
      "200/200 [==============================] - 0s 977us/step - loss: 0.4047 - accuracy: 0.8595 - val_loss: 0.5005 - val_accuracy: 0.8138\n",
      "Epoch 5/50\n",
      "200/200 [==============================] - 0s 1ms/step - loss: 0.3635 - accuracy: 0.8775 - val_loss: 0.4681 - val_accuracy: 0.8256\n",
      "Epoch 6/50\n",
      "200/200 [==============================] - 0s 1ms/step - loss: 0.3461 - accuracy: 0.8806 - val_loss: 0.4518 - val_accuracy: 0.8344\n",
      "Epoch 7/50\n",
      "200/200 [==============================] - 0s 2ms/step - loss: 0.3257 - accuracy: 0.8891 - val_loss: 0.4461 - val_accuracy: 0.8400\n",
      "Epoch 8/50\n",
      "200/200 [==============================] - 0s 1ms/step - loss: 0.3030 - accuracy: 0.9038 - val_loss: 0.4413 - val_accuracy: 0.8438\n",
      "Epoch 9/50\n",
      "200/200 [==============================] - 0s 972us/step - loss: 0.2809 - accuracy: 0.9104 - val_loss: 0.4381 - val_accuracy: 0.8444\n",
      "Epoch 10/50\n",
      "200/200 [==============================] - 0s 967us/step - loss: 0.2606 - accuracy: 0.9153 - val_loss: 0.4347 - val_accuracy: 0.8394\n",
      "Epoch 11/50\n",
      "200/200 [==============================] - 0s 1ms/step - loss: 0.2448 - accuracy: 0.9187 - val_loss: 0.4347 - val_accuracy: 0.8413\n",
      "Epoch 12/50\n",
      "200/200 [==============================] - 0s 1ms/step - loss: 0.2386 - accuracy: 0.9261 - val_loss: 0.4261 - val_accuracy: 0.8444\n",
      "Epoch 13/50\n",
      "200/200 [==============================] - 0s 1ms/step - loss: 0.2294 - accuracy: 0.9241 - val_loss: 0.4296 - val_accuracy: 0.8444\n",
      "Epoch 14/50\n",
      "200/200 [==============================] - 0s 972us/step - loss: 0.2118 - accuracy: 0.9378 - val_loss: 0.4298 - val_accuracy: 0.8444\n",
      "Epoch 15/50\n",
      "200/200 [==============================] - 0s 947us/step - loss: 0.1943 - accuracy: 0.9407 - val_loss: 0.4379 - val_accuracy: 0.8444\n",
      "Epoch 16/50\n",
      "200/200 [==============================] - 0s 1ms/step - loss: 0.1835 - accuracy: 0.9443 - val_loss: 0.4387 - val_accuracy: 0.8363\n",
      "Epoch 17/50\n",
      "200/200 [==============================] - 0s 1ms/step - loss: 0.1762 - accuracy: 0.9479 - val_loss: 0.4254 - val_accuracy: 0.8431\n",
      "Epoch 18/50\n",
      "200/200 [==============================] - 0s 970us/step - loss: 0.1668 - accuracy: 0.9498 - val_loss: 0.4240 - val_accuracy: 0.8450\n",
      "Epoch 19/50\n",
      "200/200 [==============================] - 0s 1ms/step - loss: 0.1571 - accuracy: 0.9557 - val_loss: 0.4266 - val_accuracy: 0.8456\n",
      "Epoch 20/50\n",
      "200/200 [==============================] - 0s 955us/step - loss: 0.1520 - accuracy: 0.9549 - val_loss: 0.4264 - val_accuracy: 0.8494\n",
      "Epoch 21/50\n",
      "200/200 [==============================] - 0s 1ms/step - loss: 0.1413 - accuracy: 0.9590 - val_loss: 0.4264 - val_accuracy: 0.8531\n",
      "Epoch 22/50\n",
      "200/200 [==============================] - 0s 1ms/step - loss: 0.1377 - accuracy: 0.9628 - val_loss: 0.4253 - val_accuracy: 0.8481\n",
      "Epoch 23/50\n",
      "200/200 [==============================] - 0s 2ms/step - loss: 0.1276 - accuracy: 0.9667 - val_loss: 0.4329 - val_accuracy: 0.8506\n",
      "Epoch 24/50\n",
      "200/200 [==============================] - 0s 1ms/step - loss: 0.1185 - accuracy: 0.9720 - val_loss: 0.4482 - val_accuracy: 0.8537\n",
      "Epoch 25/50\n",
      "200/200 [==============================] - 0s 937us/step - loss: 0.1142 - accuracy: 0.9715 - val_loss: 0.4400 - val_accuracy: 0.8531\n",
      "Epoch 26/50\n",
      "200/200 [==============================] - 0s 1ms/step - loss: 0.1023 - accuracy: 0.9783 - val_loss: 0.4521 - val_accuracy: 0.8475\n",
      "Epoch 27/50\n",
      "200/200 [==============================] - 0s 982us/step - loss: 0.0997 - accuracy: 0.9760 - val_loss: 0.4397 - val_accuracy: 0.8506\n",
      "Epoch 28/50\n",
      "200/200 [==============================] - 0s 1ms/step - loss: 0.0960 - accuracy: 0.9790 - val_loss: 0.4537 - val_accuracy: 0.8537\n",
      "Epoch 29/50\n",
      "200/200 [==============================] - 0s 947us/step - loss: 0.0826 - accuracy: 0.9845 - val_loss: 0.4488 - val_accuracy: 0.8525\n",
      "Epoch 30/50\n",
      "200/200 [==============================] - 0s 1ms/step - loss: 0.0804 - accuracy: 0.9850 - val_loss: 0.4459 - val_accuracy: 0.8531\n",
      "Epoch 31/50\n",
      "200/200 [==============================] - 0s 1ms/step - loss: 0.0800 - accuracy: 0.9862 - val_loss: 0.4492 - val_accuracy: 0.8569\n",
      "Epoch 32/50\n",
      "200/200 [==============================] - 0s 957us/step - loss: 0.0757 - accuracy: 0.9874 - val_loss: 0.4542 - val_accuracy: 0.8506\n",
      "Epoch 33/50\n",
      "200/200 [==============================] - 0s 1ms/step - loss: 0.0706 - accuracy: 0.9876 - val_loss: 0.4592 - val_accuracy: 0.8587\n",
      "Epoch 34/50\n",
      "200/200 [==============================] - 0s 1ms/step - loss: 0.0677 - accuracy: 0.9894 - val_loss: 0.4706 - val_accuracy: 0.8525\n",
      "Epoch 35/50\n",
      "200/200 [==============================] - 0s 2ms/step - loss: 0.0614 - accuracy: 0.9898 - val_loss: 0.4742 - val_accuracy: 0.8500\n",
      "Epoch 36/50\n",
      "200/200 [==============================] - 0s 1ms/step - loss: 0.0608 - accuracy: 0.9914 - val_loss: 0.4752 - val_accuracy: 0.8594\n",
      "Epoch 37/50\n",
      "200/200 [==============================] - 0s 957us/step - loss: 0.0542 - accuracy: 0.9922 - val_loss: 0.4768 - val_accuracy: 0.8506\n",
      "Epoch 38/50\n",
      "200/200 [==============================] - 0s 1ms/step - loss: 0.0499 - accuracy: 0.9941 - val_loss: 0.4778 - val_accuracy: 0.8506\n",
      "Epoch 39/50\n",
      "200/200 [==============================] - 0s 1ms/step - loss: 0.0466 - accuracy: 0.9949 - val_loss: 0.4806 - val_accuracy: 0.8544\n",
      "Epoch 40/50\n",
      "200/200 [==============================] - 0s 1ms/step - loss: 0.0464 - accuracy: 0.9957 - val_loss: 0.4818 - val_accuracy: 0.8531\n",
      "Epoch 41/50\n",
      "200/200 [==============================] - 0s 955us/step - loss: 0.0459 - accuracy: 0.9940 - val_loss: 0.4884 - val_accuracy: 0.8494\n",
      "Epoch 42/50\n",
      "200/200 [==============================] - 0s 1ms/step - loss: 0.0431 - accuracy: 0.9966 - val_loss: 0.4933 - val_accuracy: 0.8506\n",
      "Epoch 43/50\n",
      "200/200 [==============================] - 0s 1ms/step - loss: 0.0408 - accuracy: 0.9960 - val_loss: 0.4967 - val_accuracy: 0.8494\n",
      "Epoch 44/50\n",
      "200/200 [==============================] - 0s 2ms/step - loss: 0.0363 - accuracy: 0.9972 - val_loss: 0.5051 - val_accuracy: 0.8512\n",
      "Epoch 45/50\n",
      "200/200 [==============================] - 0s 1ms/step - loss: 0.0353 - accuracy: 0.9979 - val_loss: 0.5086 - val_accuracy: 0.8525\n",
      "Epoch 46/50\n",
      "200/200 [==============================] - 0s 957us/step - loss: 0.0343 - accuracy: 0.9987 - val_loss: 0.5201 - val_accuracy: 0.8500\n",
      "Epoch 47/50\n",
      "200/200 [==============================] - 0s 1ms/step - loss: 0.0315 - accuracy: 0.9987 - val_loss: 0.5132 - val_accuracy: 0.8525\n",
      "Epoch 48/50\n",
      "200/200 [==============================] - 0s 961us/step - loss: 0.0314 - accuracy: 0.9978 - val_loss: 0.5195 - val_accuracy: 0.8500\n",
      "Epoch 49/50\n",
      "200/200 [==============================] - 0s 2ms/step - loss: 0.0314 - accuracy: 0.9980 - val_loss: 0.5212 - val_accuracy: 0.8512\n",
      "Epoch 50/50\n",
      "200/200 [==============================] - 0s 977us/step - loss: 0.0285 - accuracy: 0.9989 - val_loss: 0.5245 - val_accuracy: 0.8481\n"
     ]
    }
   ],
   "source": [
    "#Entrainement du model\n",
    "#On passe 10 fois sur l'entierete du datasat\n",
    "#On prends 20% pour le validation set\n",
    "history = model.fit(images_train, targets_train, epochs=50, validation_split=0.2) "
   ]
  },
  {
   "cell_type": "markdown",
   "metadata": {},
   "source": [
    "# --> Affichage des courbes après entrainement"
   ]
  },
  {
   "cell_type": "code",
   "execution_count": 62,
   "metadata": {},
   "outputs": [
    {
     "data": {
      "image/png": "[encoded data removed]",
      "text/plain": [
       "<Figure size 432x288 with 1 Axes>"
      ]
     },
     "metadata": {
      "needs_background": "light"
     },
     "output_type": "display_data"
    },
    {
     "data": {
      "image/png": "[encoded data removed]",
      "text/plain": [
       "<Figure size 432x288 with 1 Axes>"
      ]
     },
     "metadata": {
      "needs_background": "light"
     },
     "output_type": "display_data"
    }
   ],
   "source": [
    "#Affichage des resultats finaux\n",
    "\n",
    "#Train set data\n",
    "loss_curve = history.history[\"loss\"]\n",
    "acc_curve = history.history[\"accuracy\"]\n",
    "#Validation set data\n",
    "val_loss_curve = history.history[\"val_loss\"]\n",
    "val_acc_curve = history.history[\"val_accuracy\"]\n",
    "\n",
    "plt.plot(loss_curve, label=\"Train set\")\n",
    "plt.plot(val_loss_curve, label=\"Validation set\")\n",
    "plt.legend(loc='upper left')\n",
    "plt.title(\"Loss\")\n",
    "plt.show()\n",
    "\n",
    "plt.plot(acc_curve, label=\"Train set\")\n",
    "plt.plot(val_acc_curve, label=\"Validation set\")\n",
    "plt.legend(loc='upper left')\n",
    "plt.title(\"Accuracy\")\n",
    "plt.show()"
   ]
  },
  {
   "cell_type": "code",
   "execution_count": null,
   "metadata": {},
   "outputs": [],
   "source": []
  },
  {
   "cell_type": "code",
   "execution_count": null,
   "metadata": {},
   "outputs": [],
   "source": []
  }
 ],
 "metadata": {
  "kernelspec": {
   "display_name": "Python 3",
   "language": "python",
   "name": "python3"
  },
  "language_info": {
   "codemirror_mode": {
    "name": "ipython",
    "version": 3
   },
   "file_extension": ".py",
   "mimetype": "text/x-python",
   "name": "python",
   "nbconvert_exporter": "python",
   "pygments_lexer": "ipython3",
   "version": "3.8.5"
  }
 },
 "nbformat": 4,
 "nbformat_minor": 4
}
