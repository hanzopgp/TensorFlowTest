{
 "cells": [
  {
   "cell_type": "markdown",
   "metadata": {},
   "source": [
    "# --> Importations"
   ]
  },
  {
   "cell_type": "code",
   "execution_count": 5,
   "metadata": {},
   "outputs": [],
   "source": [
    "import tensorflow as tf\n",
    "import numpy as np"
   ]
  },
  {
   "cell_type": "markdown",
   "metadata": {},
   "source": [
    "# --> Import dataset"
   ]
  },
  {
   "cell_type": "code",
   "execution_count": 6,
   "metadata": {},
   "outputs": [],
   "source": [
    "from sklearn.preprocessing import StandardScaler\n",
    "fashion_mnist = tf.keras.datasets.fashion_mnist\n",
    "(images, targets), (_, _) = fashion_mnist.load_data()\n",
    "images = images[:10000]\n",
    "targets = targets[:10000]\n",
    "images = images.reshape(-1, 784)\n",
    "images = images.astype(float)\n",
    "scaler = StandardScaler()\n",
    "images = scaler.fit_transform(images)"
   ]
  },
  {
   "cell_type": "markdown",
   "metadata": {},
   "source": [
    "# --> Create a model using subclassing"
   ]
  },
  {
   "cell_type": "code",
   "execution_count": 11,
   "metadata": {},
   "outputs": [
    {
     "name": "stdout",
     "output_type": "stream",
     "text": [
      "Predictions :\n",
      " [[0.01869108 0.04386951 0.00327567 0.00123411 0.6297261  0.00246293\n",
      "  0.01765561 0.00465648 0.18932012 0.08910844]]\n"
     ]
    }
   ],
   "source": [
    "class CustomModel(tf.keras.Model): #On customize notre model grace au subclassing\n",
    "    \n",
    "    #Ici on voit qu'on est plus flexible au niveau des definitions de couche compare au modele Sequential(). En effet, on peut ici\n",
    "    #definir nos couches sans leurs donner d'ordre particulier...\n",
    "    def __init__(self):\n",
    "        super(CustomModel, self).__init__()                                                      #Initialise la classe parente\n",
    "        self.first_layer = tf.keras.layers.Dense(64, activation=\"linear\", name=\"first_layer\")    #Ajout des layers\n",
    "        self.output_layer = tf.keras.layers.Dense(10, activation=\"softmax\", name=\"output_layer\") #Attention ne pas appeler la variable output\n",
    "        \n",
    "    #C'est ici qu'on joint les differentes couches \"a la main\".\n",
    "    def call(self, x):\n",
    "        prev = self.first_layer(x)\n",
    "        #prev = tf.nn.sigmoid(prev)   #On peut directement ajouter des fonctions d'activations et modifier des valeurs\n",
    "        out = self.output_layer(prev)\n",
    "        return out                    #On peut aussi return prev pour voir l'etat de la premiere couche\n",
    "\n",
    "model = CustomModel()\n",
    "prediction = model.predict(images[0:1])\n",
    "print(\"Predictions :\\n\", prediction)"
   ]
  },
  {
   "cell_type": "markdown",
   "metadata": {},
   "source": [
    "# --> Compile and train our model the normal way"
   ]
  },
  {
   "cell_type": "code",
   "execution_count": 14,
   "metadata": {},
   "outputs": [],
   "source": [
    "model.compile(\n",
    "    loss=\"sparse_categorical_crossentropy\",\n",
    "    optimizer=\"sgd\",\n",
    "    metrics=[\"accuracy\"]\n",
    ")"
   ]
  },
  {
   "cell_type": "code",
   "execution_count": 15,
   "metadata": {},
   "outputs": [
    {
     "name": "stdout",
     "output_type": "stream",
     "text": [
      "Epoch 1/10\n",
      "313/313 [==============================] - 0s 497us/step - loss: 0.3697 - accuracy: 0.8732\n",
      "Epoch 2/10\n",
      "313/313 [==============================] - 0s 598us/step - loss: 0.3745 - accuracy: 0.8748\n",
      "Epoch 3/10\n",
      "313/313 [==============================] - 0s 540us/step - loss: 0.3568 - accuracy: 0.8767\n",
      "Epoch 4/10\n",
      "313/313 [==============================] - 0s 582us/step - loss: 0.3446 - accuracy: 0.8817\n",
      "Epoch 5/10\n",
      "313/313 [==============================] - 0s 531us/step - loss: 0.3560 - accuracy: 0.8766\n",
      "Epoch 6/10\n",
      "313/313 [==============================] - 0s 537us/step - loss: 0.3382 - accuracy: 0.8811\n",
      "Epoch 7/10\n",
      "313/313 [==============================] - 0s 656us/step - loss: 0.3416 - accuracy: 0.8807\n",
      "Epoch 8/10\n",
      "313/313 [==============================] - 0s 545us/step - loss: 0.3309 - accuracy: 0.8859\n",
      "Epoch 9/10\n",
      "313/313 [==============================] - 0s 521us/step - loss: 0.3357 - accuracy: 0.8843\n",
      "Epoch 10/10\n",
      "313/313 [==============================] - 0s 504us/step - loss: 0.3429 - accuracy: 0.8867\n"
     ]
    }
   ],
   "source": [
    "history = model.fit(images, targets, epochs=10)"
   ]
  }
 ],
 "metadata": {
  "kernelspec": {
   "display_name": "Python [conda env:tensorflow-gpu]",
   "language": "python",
   "name": "conda-env-tensorflow-gpu-py"
  },
  "language_info": {
   "codemirror_mode": {
    "name": "ipython",
    "version": 3
   },
   "file_extension": ".py",
   "mimetype": "text/x-python",
   "name": "python",
   "nbconvert_exporter": "python",
   "pygments_lexer": "ipython3",
   "version": "3.8.5"
  }
 },
 "nbformat": 4,
 "nbformat_minor": 4
}
