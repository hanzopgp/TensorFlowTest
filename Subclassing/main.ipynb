{
 "cells": [
  {
   "cell_type": "markdown",
   "metadata": {},
   "source": [
    "# --> Importations"
   ]
  },
  {
   "cell_type": "code",
   "execution_count": 47,
   "metadata": {},
   "outputs": [],
   "source": [
    "import tensorflow as tf\n",
    "import numpy as np"
   ]
  },
  {
   "cell_type": "markdown",
   "metadata": {},
   "source": [
    "# --> Import dataset"
   ]
  },
  {
   "cell_type": "code",
   "execution_count": 48,
   "metadata": {},
   "outputs": [],
   "source": [
    "from sklearn.preprocessing import StandardScaler\n",
    "fashion_mnist = tf.keras.datasets.fashion_mnist\n",
    "(images, targets), (_, _) = fashion_mnist.load_data()\n",
    "images = images[:10000]\n",
    "targets = targets[:10000]\n",
    "images = images.reshape(-1, 784)\n",
    "images = images.astype(float)\n",
    "scaler = StandardScaler()\n",
    "images = scaler.fit_transform(images)"
   ]
  },
  {
   "cell_type": "code",
   "execution_count": 49,
   "metadata": {},
   "outputs": [],
   "source": [
    "# --> Create a model using subclassing"
   ]
  },
  {
   "cell_type": "code",
   "execution_count": 50,
   "metadata": {},
   "outputs": [
    {
     "name": "stdout",
     "output_type": "stream",
     "text": [
      "WARNING:tensorflow:11 out of the last 11 calls to <function Model.make_predict_function.<locals>.predict_function at 0x000002288A8DD040> triggered tf.function retracing. Tracing is expensive and the excessive number of tracings could be due to (1) creating @tf.function repeatedly in a loop, (2) passing tensors with different shapes, (3) passing Python objects instead of tensors. For (1), please define your @tf.function outside of the loop. For (2), @tf.function has experimental_relax_shapes=True option that relaxes argument shapes that can avoid unnecessary retracing. For (3), please refer to https://www.tensorflow.org/guide/function#controlling_retracing and https://www.tensorflow.org/api_docs/python/tf/function for  more details.\n",
      "Predictions :\n",
      " [[0.03459248 0.00752459 0.04768373 0.03074323 0.21172442 0.03427227\n",
      "  0.19430195 0.18831676 0.11096775 0.1398729 ]]\n"
     ]
    }
   ],
   "source": [
    "class CustomModel(tf.keras.Model): #On customize notre model grace au subclassing\n",
    "    \n",
    "    #Ici on voit qu'on est plus flexible au niveau des definitions de couche compare au modele Sequential(). En effet, on peut ici\n",
    "    #definir nos couches sans leurs donner d'ordre particulier...\n",
    "    def __init__(self):\n",
    "        super(CustomModel, self).__init__()                                                      #Initialise la classe parente\n",
    "        self.first_layer = tf.keras.layers.Dense(64, activation=\"linear\", name=\"first_layer\")    #Ajout des layers\n",
    "        self.output_layer = tf.keras.layers.Dense(10, activation=\"softmax\", name=\"output_layer\") #Attention ne pas appeler la variable output\n",
    "        \n",
    "    #C'est ici qu'on joint les differentes couches \"a la main\".\n",
    "    def call(self, x):\n",
    "        prev = self.first_layer(x)\n",
    "        out = self.output_layer(prev)\n",
    "        return out\n",
    "\n",
    "model = CustomModel()\n",
    "prediction = model.predict(images[0:1])\n",
    "print(\"Predictions :\\n\", prediction)"
   ]
  },
  {
   "cell_type": "code",
   "execution_count": null,
   "metadata": {},
   "outputs": [],
   "source": []
  },
  {
   "cell_type": "raw",
   "metadata": {},
   "source": []
  }
 ],
 "metadata": {
  "kernelspec": {
   "display_name": "Python [conda env:tensorflow-gpu]",
   "language": "python",
   "name": "conda-env-tensorflow-gpu-py"
  },
  "language_info": {
   "codemirror_mode": {
    "name": "ipython",
    "version": 3
   },
   "file_extension": ".py",
   "mimetype": "text/x-python",
   "name": "python",
   "nbconvert_exporter": "python",
   "pygments_lexer": "ipython3",
   "version": "3.8.5"
  }
 },
 "nbformat": 4,
 "nbformat_minor": 4
}
